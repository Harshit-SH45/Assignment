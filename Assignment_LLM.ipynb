{
 "cells": [
  {
   "cell_type": "markdown",
   "metadata": {},
   "source": [
    "#### 1. Can algorithms like SMOTE/ROSE which synthesize new examples from the training data be called Generative AI?"
   ]
  },
  {
   "cell_type": "markdown",
   "metadata": {},
   "source": [
    "SMOTE are ROSE are techniques used to address class imbalance. SMOTE generates synthetic examples for the minority class by interpolating between existing instances while ROSE randomly selects a minority instance and generates synthetic examples by adding noise to it. Although SMOTE and ROSE address class imbalance, they are not considered true generative models. Generative AI models, on the other hand, create new data samples based on learned patterns. "
   ]
  },
  {
   "cell_type": "markdown",
   "metadata": {},
   "source": [
    "#### 2. Implement WikipediaQueryRun tool from LangChain and search for Generative artificial intelligence and obtain the content of the page"
   ]
  },
  {
   "cell_type": "code",
   "execution_count": 1,
   "metadata": {},
   "outputs": [],
   "source": [
    "from langchain_community.document_loaders import WikipediaLoader"
   ]
  },
  {
   "cell_type": "code",
   "execution_count": 2,
   "metadata": {},
   "outputs": [],
   "source": [
    "search_term = \"Constantinopole\"\n",
    "pages = WikipediaLoader(query=search_term, load_max_docs=1).load()"
   ]
  },
  {
   "cell_type": "code",
   "execution_count": 3,
   "metadata": {},
   "outputs": [
    {
     "name": "stdout",
     "output_type": "stream",
     "text": [
      "Constantinople (see other names) became the capital of the Roman Empire during the reign of Constantine the Great in 330. Following the collapse of the Western Roman Empire in the late 5th century, Constantinople remained the capital of the Eastern Roman Empire (also known as the Byzantine Empire; 330–1204 and 1261–1453), the Latin Empire (1204–1261), and the Ottoman Empire (1453–1922). Following the Turkish War of Independence, the Turkish capital then moved to Ankara. Officially renamed Istanbul in 1930, the city is today the largest city in Europe, straddling the Bosporus strait and lying in both Europe and Asia, and the financial centre of Turkey.\n",
      "In 324, after the Western and Eastern Roman Empires were reunited, the ancient city of Byzantium was selected to serve as the new capital of the Roman Empire, and the city was renamed Nova Roma, or 'New Rome', by Emperor Constantine the Great. On 11 May 330, it was renamed Constantinople and dedicated to Constantine. Constantinople is generally considered to be the center and the \"cradle of Orthodox Christian civilization\". From the mid-5th century to the early 13th century, Constantinople was the largest and wealthiest city in Europe. The city became famous for its architectural masterpieces, such as Hagia Sophia, the cathedral of the Eastern Orthodox Church, which served as the seat of the Ecumenical Patriarchate; the sacred Imperial Palace, where the emperors lived; the Hippodrome; the Golden Gate of the Land Walls; and opulent aristocratic palaces. The University of Constantinople was founded in the 5th century and contained artistic and literary treasures before it was sacked in 1204 and 1453, including its vast Imperial Library which contained the remnants of the Library of Alexandria and had 100,000 volumes. The city was the home of the Ecumenical Patriarch of Constantinople and guardian of Christendom's holiest relics such as the Crown of thorns and the True Cross.\n",
      "\n",
      "Constantinople was famous for its massive and complex fortifications, which ranked among the most sophisticated defensive architecture of antiquity. The Theodosian Walls consisted of a double wall lying about 2 kilometres (1.2 mi) to the west of the first wall and a moat with palisades in front. Constantinople's location between the Golden Horn and the Sea of Marmara reduced the land area that needed defensive walls. The city was built intentionally to rival Rome, and it was claimed that several elevations within its walls matched Rome's 'seven hills'. The impenetrable defenses enclosed magnificent palaces, domes, and towers, the result of prosperity Constantinople achieved as the gateway between two continents (Europe and Asia) and two seas (the Mediterranean and the Black Sea). Although besieged on numerous occasions by various armies, the defenses of Constantinople proved impenetrable for nearly nine hundred years.\n",
      "In 1204, however, the armies of the Fourth Crusade took and devastated the city, and for several decades, its inhabitants resided under Latin occupation in a dwindling and depopulated city. In 1261 the Byzantine Emperor Michael VIII Palaiologos liberated the city, and after the restoration under the Palaiologos dynasty, it enjoyed a partial recovery. With the advent of the Ottoman Empire in 1299, the Byzantine Empire began to lose territories, and the city began to lose population. By the early 15th century, the Byzantine Empire was reduced to just Constantinople and its environs, along with Morea in Greece, making it an enclave inside the Ottoman Empire. The city was finally besieged and conquered by the Ottoman Empire in 1453, remaining under its control until the early 20th century, after which it was renamed Istanbul under the Empire's successor state, Turkey.\n",
      "\n",
      "\n",
      "== Names ==\n",
      "\n",
      "\n",
      "=== Before Constantinople ===\n",
      "According to Pliny the Elder in his Natural History, the first known name of a settlement on the site of Constantinople was Lygos, a settlement likely of Thracian origin founded between the \n"
     ]
    }
   ],
   "source": [
    "print(pages[0].page_content)"
   ]
  },
  {
   "cell_type": "markdown",
   "metadata": {},
   "source": [
    "#### 3. Implement a tool using YouTubeSearchTool and YoutubeLoader to search and obtain transcript of a video obtained on searching 'LangChain' in YouTube "
   ]
  },
  {
   "cell_type": "code",
   "execution_count": 6,
   "metadata": {},
   "outputs": [],
   "source": [
    "from langchain_community.document_loaders import YoutubeLoader\n",
    "from langchain_community.tools import YouTubeSearchTool"
   ]
  },
  {
   "cell_type": "code",
   "execution_count": 5,
   "metadata": {},
   "outputs": [],
   "source": [
    "! pip install --upgrade --quiet  youtube-transcript-api"
   ]
  },
  {
   "cell_type": "code",
   "execution_count": 9,
   "metadata": {},
   "outputs": [],
   "source": [
    "! pip install --upgrade --quiet  youtube_search"
   ]
  },
  {
   "cell_type": "code",
   "execution_count": 10,
   "metadata": {},
   "outputs": [],
   "source": [
    "tool = YouTubeSearchTool()"
   ]
  },
  {
   "cell_type": "code",
   "execution_count": 11,
   "metadata": {},
   "outputs": [],
   "source": [
    "links=tool.run('Sidemen')"
   ]
  },
  {
   "cell_type": "code",
   "execution_count": 12,
   "metadata": {},
   "outputs": [
    {
     "data": {
      "text/plain": [
       "\"['https://www.youtube.com/watch?v=T-Ky46HVkd0&pp=ygUHU2lkZW1lbg%3D%3D', 'https://www.youtube.com/watch?v=w_SWVBwcpdE&pp=ygUHU2lkZW1lbg%3D%3D']\""
      ]
     },
     "execution_count": 12,
     "metadata": {},
     "output_type": "execute_result"
    }
   ],
   "source": [
    "links"
   ]
  },
  {
   "cell_type": "code",
   "execution_count": 13,
   "metadata": {},
   "outputs": [],
   "source": [
    "import re\n",
    "sample = r\"https://www\\.youtube\\.com/watch\\?v=[\\w-]+&pp=[\\w-]+\"\n",
    "urls = re.findall(sample, links)"
   ]
  },
  {
   "cell_type": "code",
   "execution_count": 16,
   "metadata": {},
   "outputs": [
    {
     "name": "stdout",
     "output_type": "stream",
     "text": [
      "Document(page_content=\"we spend 50 hours in Africa taking part in some crazy challenges and pushing ourselves to the limit so strap in and enjoy the ride we're all together and we're all going to Kenya sorry everyone's staring us it's awkward now you know this is crazy this is the actual bet Squad V this is the first one first one of many though well hopefully or it can flop and then we never do this again no don't put that negative energy netive but yeah let's go man we're about to start boarding so yeah jump on the pl he's a lazy b t NL let's go to Kenya baby let's [Music] go [Music] oh woo made it oh my gosh is that fan waiting for us yeah what's up says ba squ wow what a nice moment these lovely people from the Water Project immediately welcomed us with smiles and flowers we have flowers what's this someone tell me if this is like noral this is romantic as we said our hell and were debriefed by the director of the regional service Hub it was time to make our way to our accommodation we need to hop in this van it's boiling here absolutely boiling our accommodation was located in kakaa which is an hour and 30 minutes away from the airport but on the way there Kenny decided to jump out the van cuz he wanted to test how strong his neck is pause who the hell wrote this script oh this is light work yeah yeah don't right with me man do you think I can do it with no hands yeah let me see you do it with no hands I don't believe you that's the TR that's what it is I need that okay come on come on I want I want to get this I want to get this I really want to get this all you know what I don't I don't I really wanted to let go but I thought the whole thing was going to fall and now we need to cover my hairline we just arrived in a hotel this is Golf Hotel the hospitality has been great so far as you can see by my face I am shattered I didn't I can't sleep on planes what are we about to go do right now eat uh eat we're about to go eat exact lots of food what kind of food are we uh Meats uh fruits rice rice goat meat cuckoo chicken all [Music] that the next place we are traveling to is the regional service Hub of the Water Project where they operate from and it turns out they had a little surprise for us welcome to the crazy he hey let's get V Let's Get V the love from Kenya is unreal just full of Good Vibes and we obviously had to join in on the party I've never seen anything like this in my life never in my life what type of Welcome is [Applause] [Music] [Applause] this it means no worries [Music] this is mental this is actually they're showing us mad love here and they're showing us more love than the UK we have welcome into the water project office thank you so much every feel at home thank you so much he the B Squad have arrived let's go guess guess T1 is last fight guys guys guys guys I've got two socks on Yo guys y guys y guys nich's bre [Applause] s that's don't even think about one no no guys guys guys guys AJ is fre foot to you got got you got me let's eat let's go let's eat let's right there we go so far Kenya has been unreal warm welcomes dancing and now food is just been so welcoming however before we knew it we were back on the road headed towards EMT Sai Primary School which is one of the schools that have benefited from the water Project's missions [Applause] they greeted us with some great songs so we wanted to teach them one of our own a beta Squad classic yeah yeah good good good good I say good good good okay well now we've been introduced to our our friends here it's time that we uh we each teach them a lesson that's our first challenge AJ is a teacher is Mentor I'm the best teacher and the best student you may as well start this is your teacher we're going to go in there Mr triangle everyone say hello Mr triangle hello Mr triangle thank you guys what's his name m are you guys ready for class yes all right let's go then so for our first challenge it was time to find out who's the best teacher out of all of us we will all take turns teaching the class a specific subject and at the end the class will decide who's the best teacher out follow us now let's begin the lessons Mr triangle welcome triangle uh first of all my name is not Mr triangle my name is AJ can everyone say AJ AJ all right cool now that we got that out the way let's begin the class okay hi guys my name is shaki Mr Kenny I'm called Simon is everyone okay okay yeah amazing okay so I'm going to just teach you a bit of math all right so today I'm going to teach you an important lesson oh my God Kenny go and teach the class I am I am teaching it but I don't know what what do you guys want to learn what do you guys want to learn about at a tender age of 42 Metta has done two title races Nikos everyone say it with me Nikos okay science you guys like science no okay they don't like science either all right so two what is that what's he doing four good second rice reason number four [Music] there you all right thank you very much having a teacher that's English guys see you later have you guys ever played Simon Says Simon Says say AJ is a rat AJ is a rat there we go one more time Simon says Sing AJ is aat ajat thank you so much for listening to all of our classes but it's now up to you guys to decide who was the best teacher so put your hand up for your favorite teacher so first off we're going to start with Mr chunks two people Mr Kenny who liked him the most okay zero okay we'll move on to myself Simon Simon Says put your hands up who liked Simon the most oh she already put her hands up as well you put hand for me already you already put okay who liked Sharky the most okay and now let's go over to Mr triangle who liked him the most come on let's go bring it in everybody bring it in bring it in come on bring it in come on we love you Mr triango hey [Applause] AJ triangle triangle goodbye all right I just won the first Challenge and it's time for us to leave the school but for the Second Challenge we've got a football team waiting for us that we have to beat are you guys ready ready BR wait I'm excited I'm I'm lit going to play in the socks same as I didn't bring my shoes the next place we are going to is lubino Primary School which is an hour away from where we are we've arrived now to complete our next challenge we're going to play some football so let's meet the uh the players who were going up against the best team in Kenya so hello everyone hello let me uh introduce you guys to everyone right here we have drei hii right here we have Mr triangle Mr triangle thank okay here we have Saka right here we have Anon Joshua say hi anony Joshua wow and right here we have leono Messi say hi Leon Messi you guys [Music] get I hope you are prepared they are ready to beat you are they ready are they ready very ready where where are they they have left most of them are day Scholars but they will be here tomorrow tomorrow so if we are ready change to to play by 8:30 yeah it will be nice perfect will you guys win or will we win wi wi win we will win we will win we will win all right guys we're going to play you guys tomorrow are you ready yes everybody be there tomorrow okay okay bye bye even though we've only been here a day we're all overwhelmed with the love and energy we've received Kenya is a beautiful country inside and out and we'll be back tomorrow to face the best team in Kenya but first we were invited to Humphrey's personal home for some dinner well thank you for inviting us guys this is amazing thank you so much thank you so much for the invite we' had we've had a long day but it's been great it's been a lot of fun yeah yeah honestly honestly we've loved it so far yeah so this is a a beautiful ending to our day as well so thanks so much for welcoming us every single one of you guys and that's the end of day one and if the rest of our time here is anything like this then we're in for the trip of a lifetime all right it's day two and it's finally time to play some football hey who's excited man yeah some kids at let's go SM some kids crazy the rest oh my God jeez we're here we're here honestly the turnout wasn't what we expected it seemed like the whole school was here to witness this football match and obviously we felt welcome this energy is crazy the atmosphere already is absolutely wild let's go they're already warming up we need to we need to start warming up bro that is like an army warming up got 23 players we have five canny just join the warm up you guys are getting smoked did Kenny join their training session what I'm warming up hello everyone well considering we lost Kenny we are a fourman team so we had to recruit some players going to be a big game man it's going to be a big game you better be watching this with the team now fully assembled it was time for us to warm up and prepare for the game you know the way we're going to get destroyed even if we try hard we'll still lose bro why so here we go beta Squad be the QPR of Kenya we have the power we have the tenacity let's do this okay guys you've been chosen to play for beta Squad FC yeah this is a big responsibility I need everyone to keep it simple make sure you look after your people if you lose the ball make sure you run and get it back when you have the ball make it easy pass simple don't try to run and do too much okay on three I need to hear beta squad one two three go you know me playing football is literally the worst sight known to man but it's fine I'm just going to use my FIFA skills my FIFA IQs I got a press R1 to stay in position L1 in circle is to finesse Square to to cross you know [Music] what that's me that's my press That's my press in the first minute I led the team and pressed heavy putting them completely on the back foot so much so that they completely capitulated and scored an own goal all because of my press hey I don't know what happened but it's 1 n we're already winning go [Music] go it became clear we had our work cut out for us because the other team had chance off the chance he's [Applause] all right this team is definitely not the QPR of Kenya more like the Manchester United of Kenya they are playing unbelievable football and we are struggling against them against [Applause] kids shut the up delete the footage now clip clip delete that K look at go look at it go joy AJ R it AJ R it yeah nice one okay let me be real this is the toughest team we've ever faced in our history but now that we have halim it is time for us to rest and time for the team talk all right guys we're playing an incredible game everyone in the back is playing incredible when you get the ball like I said clear it we are going for scor we want a win we want scores we don't want you to to hit the ball outside the goal is that clear you know you know when when we have a corner everyone can't run to the front you have some have to stay at the back okay why are you giving up have that hat I don't want them to lose I have come I now want to cheer this is my team it was clear going into the second half that the home support had gone up a level and it definitely got to our heads they were on us damn it's 1-1 now wait is that Kenny celebrating with other team oh my gosh 111 all on this now as soon as I leave defense as soon as I leave defense that's what happen why' you leave I want to get a goal Hey listen listen there's one guy with golden shoes yeah and he might be the best player to ever touch this planet oh yeah this game is so close it is 1-1 right now and we are St struggling under this kenon heat a a ay G on the wing this is it my chance to score and make us the winners beat him never mind I'm completely knocked out yeah I'm done I'm done I'm done free kick free kick yeah I can't even get up wait no wait what happened yeah I'm done I'm done oh wait I think he might actually be injured say come walk off I can't walk off lucky for me even though I had immense pain the doctor worked his magic on me and told me I was fine no injury there at all and thank goodness the kids were taking it so serious because of the injury the game had to be stopped however we could not finish the match at 1-1 so we proceeded to penalties which we were actually allowed to have unlike in our charity match where everyone ran on the pitch the moment it got to penalties oh all right penalty time now listen you guys are done so well well done one1 we're going to take it from here now yeah we're going to take it from here B it's SC five first P so here it is the beta Squad penalty shootout who will [Applause] win oh [Applause] come on [Applause] [Music] [Applause] [Music] ni so I we've all done our job we've all done our job no pressure on sh he's going to win it for if he misses I'd have to take a penalty next penalty let's see what happens no pressure [Music] all right Shi you know what you need to do all right so if Shi scores the win of ready we won there we go here we [Applause] go we won the match however it was one of the toughest games we have played so we celebrated with the school as this football match was amazing everyone's a winner everyone's a [Applause] [Applause] winner all right let's let's head back over there here we go this way oh they're following me are they following [Music] me if I fool it's a long day they're following me I don't know why they're trying to pull me down they're trying to pull me down oh they're pulling me apart then it was time for the trophy ceremony I want to declare better Squad the winners of this match thank you so much guys let us clap for better [Applause] Squad we're going to have a little quick team talk just to have a have a conversation guys um I'll be honest doesn't feel right take it feel right give it to I say we bring up I said we bring up the other team here and we give them and let them celebrate I'm I'm going tell them okay guys um luino primary school the football team can you guys stand up please uh we just want to say thank you so much for a great game um and thank you so much for the accommodation you guys hosted us very well and for that reason it doesn't feel right for us to take this we just want to say we're going to give the trophy to Lino primary school as [Applause] you all right guys just want to say one final thank you from all of us here at the beta squad for allowing us to come to your school and to play a football match against you guys uh to say thank you we brought some gifts for you guys to help you with your school so we're going to give it to your teachers and some new footballs as [Applause] well one playing against this school was one of the best experiences of my life and seeing the amount of joy that these kids get from New footballs and new stationary items brings a smile to my face but as we said our goodbyes it is now time for us to travel to the next school miss you guys bye bye bye bye guys I love Kenya man absolutely love it byebye guys bye the next school we are going to visit is the moraba primary school which is a few miles away but as always our welcome is filled with songs and [Applause] [Music] happiness ni [Applause] you see one thing about here yeah the school kids get on the school kids in the UK they got energy everyone's got rhythm dancing singing It's vibrant it's colorful I love it man it's incredible after arriving at the school we were escorted to where one of the water pumps was located and now we're going to get to how to repair some of the wells so let's uh let's do it this pump needed repairs done to it as it was having some issues with the bushings so we were shown how these pumps are fixed [Music] wow there we go so that means now the pump is uh going to serve this particular school and Community for a long time so these are the parts that we have replaced we call them the bushes so these ones are already worn out and we have replaced them and this is what the Water Project do for communities affected by the lack of clean water and your donations go towards installations of new water projects just like this well and maintenance it's so clear to see how much these Wells mean to the kids the excitement the smells it's truly heartwarming but it does also tug at the [Music] heart it's crazy to think that one world like this can not only change the lives of these school kids but also the lives of the whole Community surrounding the [Music] school the school then surprised us with a whole dance routine before we had to leave wow wow well done well done [Music] wow the next school that we're going to is Shanda Primary School in which our next challenge will be given but like usual the welcome was insane [Music] [Applause] too much dancing from these people to what's going on right now I thought we be doing a war so our next challenge is to go and get water but it's not that easy the way we're going to get water is to go on a long difficult hike which the people here used to have to do all the time so um are you guys ready for the hike I'm ready I'm ready let's go you're you're not ready for this I'm not for this now no well we're dinner now I'm lazy let's go can you carry me cuz I'm I'm injured from the I'm not carrying it oh that was impos lost your whole man and soul and all right let's start the hike and I'm going to be limpic wait can't wait before the hike begins we had to collect our canisters the walk has begun I'm actually proper injured what from the match yeah he's already making excuses so this is this is where people have to walk every day yeah every day and you know they would do it more than four times a day four times a day wow yeah it's very it's very the is very sh Australia remember Australia when we used to go on that thing yeah like that bro we're talking about Australia hey ja is touching me n touching me n's touching me Js this guy right here JS he's touching me now as we went off on this walk we all underestimated how long and how taxing the walk is jesz this is a long walk yeah this bit yeah this will have your ankle done in about 3 minutes my ankle's already xed I don't know how kids are doing this bro hey guys boys we've arrived we can see the water just taking this moment real quick no no no no you wouldn't even help me carry me oh my gosh my whole back oh Sor S boys here all right let's go let's go we found it we finally arrived at the stream and we all took it in turns to collect the water that's it that's heavy wow and this my one done a you're lucky good Lu boys am I doing it good yeah yeah you like that Humphrey yeah that sounds crazy you like that Humphrey yeah man said am I doing it good you like that Humphrey you need to chill out we've just been given a master class on what the locals had to do here every single day sometimes four or five times a day uh just to get some water before the worlds were built so you can see how much we're struggling so and now we have to all way back up that's the next that's the next task that's probably the hardest part hardest part of the whole thing walking back up I race my grandparents my grandparents are right there hey guys all right guys we've almost made it back finally bro that's killed me I can't lie to you I'm done see if I lives around here I'd never be the one that walks up get my little brother to do we're almost back in we are almost home we're not home all right my back's killing this is not easy at all this is a proper tough you know that laugh at us it's not funny they're like how are they making this look tough hey hello hello everyone we made it hello this was so hard oh I don't know how these guys do it that was difficult hello hello everyone hello hello hello wagan [Applause] wagan here we go guys can you take us to the well let's go to the well let's go let's go let's go and we just did the walk that the kids used to have to do but now as you can see the pump is a lot more close Clos to the school and they're getting safe secure clean water and that makes us very happy yes go yeah so the question is after that long walk who's the first person to drink some water me we all took turns taking a drink from the well however it seems that the school kids took humor from one person drinking how no they all just said that you were drinking it funny go drink again man but as we're about to leave the school and the local sent us on a way out with a party if you want to know how happy this water makes the kids is just have a look this is exactly why we wanted to come to Africa we wanted to see the work firsthand that the Water Project is doing all these kids deserve the whole world and clean water is the absolute minimum they all literally treated us like family and we can honestly say we'll never forget it our next challenge is to have matching f with our team partner which means we're splitting up guys all right damn man first time SPL split the whole video This is actually yeah so the teams are me and AJ and you three all right boys let's go got this let's go all right how long we win let's go get the D we've got 30 minutes to get off it and we've got a budget for each member of each team which is 20 quid and the time starts now we have 30 minutes um I'm about to take our time yeah and by piece by piece piece by piece so what's the first piece you said it hat a hat yeah yeah hat wo wo where you going forget that bro that's that's like head SC bro here come you haven't even had a look what's down there I already where actually closed door here you're long sighted that's why no no not there what not the shop deep into it there's a lot of shots go this way then you want to go there let's go as me and Kenny go to find our first item let's see how the other team is getting along all right AJ first item those little body warmer suits body is this your shop no it's my shop of my mother mom mom mom mom mom mom mom one 650 650 650 should we get those two of those two of those in green yes you know what it's going to be difficult though find a matching clothes yeah yeah I reckon we break the rules early Allah Martinelli I have to get Martinelli short no I can't Martinelli short is mental Oh my days we're going for the Arsenal aesthetic right now that's the matching part we all matching Arsenal so here came the interesting part negotiating a price that suits obviously there was some back and forth I've only got 1,000 I'll give you 1,000 but after a few minutes we finally came to an agreement give 1,100 1,100 bring us yeah my boy I've got it for you don't worry you sound like Mel a little bit you know all right so that's what you call a bit of bargaining bit of bartering we all Arsenal fans so we got Arsenal related shorts each uh this probably if it fits me I'm going to wear this at home what do you think we should get mate which one should we get should we get two green if you like it then we'll go with this one okay amazing so how much is that 1300 1,300 there you go there we go C tells me that these W are actually 650 each yeah definitely for facts those things were not 650 each this is negotiation time now we'll give you 100 shillings if you tell us which which one of these we should wear each do you think I should wear this one or this one this one all right do that mean I'm wearing this one that look good you're asking kid if you look good yeah good one huh y well thank you very much that's [Music] 100 we definitely got RS they're all celebrating look they're all celebrating they're like we got them we 100% 100% got bumped absolutely rids when I tell you yeah listen Sorry Sorry boss Sorry boss do you have you have T-shirts yeah red for Arsenal one more red t-shirt one more red t-shirt big big one big one big one I'm I'm big boy boy how much for these three 1500 as you can see we weren't fully happy with the price so we bought in back up to help us negotiate a better one he's from here 1,000 1,000 1,000 that's the fact that he shed us from 15 to 1,000 just shows it's even lower than itly but you know what why you shaking my hand I don't know we might as well just give it to him minute 1,000 1,000 hey Asante Asante thank you Asante how much is this 200s 200 Shillings what maybe 150 150 yeah see we should have negotiated before yeah yeah for real just quick try on you look cold yeah I think you look good too we're looking good there we go I think we need to get these there we go thank you thank you so much is that all good we all matching red te- shirts all matching Arsenal themed shorts now we need some shoes and we are good yeah but if you in what country is this going to fit me definitely not Kenya oh Manchester United yes we have these how much is it only 750 750 only 750 all right wait should we get socks yes how much are the socks 15 each hearing that the socks were 150 each we tried to negotiate a reasonable deal socks has to be 20 20 it has to be however after a few minutes of negotiating we realized that the socks weren't included in the whole checklist so one of us had to break her the bad news got to do the job no please you have to do the J to get best best no best I'm leav you this is where it goes left so I I'm not really interested in socks cuz I've got some socks you interested um so I'm I'm not I'm not interested even the hats I'm really sorry you're so great at your job though please no I'm sorry I no please I take no it's not a negotiation tactic we just we're just not interested in socks I'm really sorry prices do fall when you leave there that is a three yeah the same you want why could you buy this one this one and this one of this one that's perfect how much are these uh this 3,000 for one for one yeah you're joking I'm not joking this Adidas is it Adidas or and is it Nike or is it is it real n f so wait so wait how much is you telling me how much this one 3,000 3,000 this is 3,000 you being serious BR that's that's way too much out our budget bro 2,000 each and we'll take it now cash 2,000 each for for for three yeah okay yeah all why are these actually comfy I can't believe I've secured SpongeBob sliders I'm wonder what the other dry team are looking for shoes shoes shoes yeah we like this how much is that how much 15 15 yeah 15 yeah 15 wait 1 second one second let me just try these on now these these don't really fit my feet 1,500 for one parachutes is way too much so we tried our best to bring down the price but these two weren't moving we will buy two 1,000 leading me to use my secret method leaving I'm about to walk I'm about to walk deal 1,100 it's okay it's okay yeah on 100 1,100 yes Shake on it shake on it shake on it thank you very much it work let's go guys okay how did it just go from getting one shoe for 1,500 get two pairs for 1.1 it is 1,100 thank you so much for this good negotiation well done you're back do I'm I'm getting hay fever so how much for the handkerchief 100 100 you know what for this I'll I'll buy the 100 thank you we feel bad because she's come the H ways from that shop all to here there you go there you go thank you thank you very much oh the shorts here that's Arsenal have you got Manchester United yeah yeah let's get rashford two rashford rashford shorts yeah I CH you 400 400 each 700 for two you went too nice there I feel bad deal amazing thank there we go pleasure doing business brother you want put it on now feel like I'm inside rashford right now oh crazy oh not in that way bro yeah look at that take care my friend thank you s okay all right let's continue There we go this just violating hello hello hello do you have any hats yes how much how much is that how much for three 1,200 for 1,300 for free okay soz we don't have enough money and we're buying white hats to save money chunks already has a white hat on so we going to buy two so 350 we'll buy two two 700 smart thinking no how much have we only have 650 so buy two for 650 two two for 6 two for 650 for 650 I thought you were yeah crazy the boys are staring up there we go when now mat huh what about the sweets you want sweets um you know what you show me where the sweets are so my friend here she wants um some sweets how much to the sweets 3 for 10 oh wow that's the first good deal of the day we'll just get as many sweets as possible for 100 and give it to all the kids yep thank thank you thank you so much thank you there you go my friend there you go there we go here you go there's the bag for you thank you you're very welcome make sure you share it around with your friends okay bye how much are the watch us 350 each 350 H okay that doesn't work ah you drive a tough bargain oh goodness all right AJ if we just talk real quick here 1,200 each yeah we're on the same page let's do that cuz this designer the amount we spent now this is easily designer yeah yeah that's AJ is asking people to help him but I don't need oh yes please I'm like a big boss now how I look how I look you look good now quite frankly you've you've done you've drove a tough bargain but um we were thinking as the final price to have to give what was it everything 2,400 there you go thank you very much there we go someone's happy you are you are just a very good negotiator no problem you are very good at business thank you has anyone else got a designer Kenyon watch no they don't that's the problem yeah we've we've now changed we we're clear now yeah yeah yeah some okay okay stop flexing the watch stop flexing the watch stop flexing yeah the the watch is causing controversy we don't we don't flex the watch no more was that I just wanted to itch my ear you know I don't talking about more though well well well oh I was about to say well well well well we said well well well first yeah exactly well well too slow well we've seen a lot of Wells today well well that fair play yeah yeah that we won what that watch is Faker than that's probably the worst thing I've seen did you get that dry pouch as well huh he got that pouch from London in you on this fit Arsenal theme shorts that is one of the worst things ever why is that shirt so tight on you at least we're wearing a similar thing white text has black how about how about this what's Kenyan about that please cuz Way New York New York and Kenya BR exactly and then Kenny can you please tell me what player that's so this is AR shavin there we go all right yeah good Arsenal fan hang on a second did you did you guys buy those hats yeah got matching hat got matching hats you got matching hats and we got matching glasses yeah you already wearing that hat and then different you're wearing that hat and then you got that I was wearing hat can you say that in my ear please yeah I didn't hear you sorry we didn't hear you is that this is this AP AP Rolex and thing AP yeah protect pH together all made all collabed in one time yeah they all clab this is their they only collab right now twice as Wella all right so how going to decide who's who's won we've won we've won we won how are we deciding it we have a a good old Kenyon standoff what's that let's post two pictures onto the B called Instagram and let's let the subscribers decide we already know we won we won though yeah let's do that as challenge 4 is completed we made our way back to the accommodation but before heading inside we had to express our gratitude to Humphrey okay so we are leaving in the morning uh for our next challenge but it also means that sadly this is the last time we'll be seeing our good friend Humphrey unfortunately unfortunately at the water project but thank you so much from all of us Round of Applause man he's been so hospitable thank you so much man yeah thank you thank you brother thank you and on top on top of that we're doing a charity football match um in actually a couple of weeks and we want to raise all the money for the water project because of all of the amazing films which you've done thank you yes so hopefully hopefully it's success by this time it's it's already happen yeah yeah yeah sure but honestly man you're doing amazing stuff and yeah it's it's massively inspiring to all of us and incredible to Stu than sure thank you on behalf of the Water Project we are also very very grateful for all the great work that you've done this two days have been very successful and we wish you all the best you so much thank you you wish you the best as well yeah last round of applause thank you so much thank you so much okay byebye what's byy in sweee uh GUI GUI gu one massive thank you to Humphrey and with that that's the end of day two yo good morning everybody it's time for the final day waiting for these guys like usual these dogs smile on my face in Africa I'm on the M on me how can I not smile we took a quick Journey to the airport to get to naobi but not before saying goodbye to a few friends I really really appreciate the hospitality you guys have been so welcoming and I want to say thank you very much we've now arrived at the airport my ankle is actually finished from the game but I and I almost injured myself again you see this is just the issue I'm just not a coordinated human being but now we're going Nairobi hopefully I can make it there for the rest of the day I actually have to be on this now cuz I'm genuinely very injured honestly brother amazing work you guys are doing and really nice to meet you big up brother big up big [Applause] UPI all right no problem I'm about to go to Nairobi yes yes yes where the H at in narobi where the hes at where the hes at what women women where they where they now you understand but yeah guys kiss has been amazing now we're on our way to narobi I can't can't wait to touch for thei cuz I heard it's so lit over there so yeah catch you guys [Music] there we are now in the capital Nairobi it's time for us to do our final challenge what we waiting for let's go we're doing a a nice little Safari couch so um let's go in the car let's go let's go Nai oh it's a fast Ro shout out to flor flowers oh my gosh best flowers in [Music] K so it's time for us to go to the safari yes you guys ready I'm very ready been ready yeah I'm hot it's boiling very hot though oh it's boiling might as well get in yeah let's get in let's get in so before we get to the safari we now need to find out who won last night's challenge yeah we will I mean do we really need to check yeah come on obviously I mean it's pretty obvious our clear clear as day let's check not as good as ours all right let's find out let's find out the result was with 66% W team AJ and Nik let's go let's go let's go B we do get an advantage but I don't know what it is yet I guess we'll never know cuz the camera is not on me oh now it is so what we're going to be doing next is animal Bingo how's that work what a stupid question Kenny everybody knows the way animal Bingo works we all pick three animals that we think we'll see on the Ari but we can't pick the same as anyone else whoever sees the most of their three animals wins and as me and AJ won the poll we get first Pi I'm get First Choice yeah I'm just going to say to start off with Lion you think you're going to see lion today yeah Kya no I think they're quite rare to see like outside at this time make a smart pick now I want to see a hipper drop no good giraff oh that's my one chimpanzee go on KY a seal oh yeah yeah K yeah Kenny Kenny Kenny's done you don't want to see Kenny is absolutely finished for my second animal I'm split between two and I'm going to go with elephante my second name shil tiger I need to see a tiger wait tiger in Tiger's Asia CU yeah good luck there tigers in Africa very difficult cheaters leopard I think you should go well you've lost your whole mind you got seal you went seal you may as well go Vibes now penguin Parr parrot yeah that's not bad that's not so my final pick the one with a horn a rhino this is a guaranteed we're going to see it's so guaranteed if I don't see one of this I'm not in Africa a gazelle zebah oh Myra that's a good one that's a good one that's a good one he's got giraffe and zebra I got giraff zebra Le and cheetah what's better what's better giraffe elepant cheatah or lion elephant he won he won I think elephant guaranteed r i don't bro a zebra is guaranteed a giraffe is guaranteed how are you two first two pick none of you said giraff and zebra giraff and zebra are two of the easiest in the world all right my third and final pick of the draft goes to on ostrich a gorilla all right Kenny's part pick I'm actually really excited for this one you know yeah now it's a now it's a full on game if one of these three break through I think that will be the biggest shot of the Millennium shortly after deciding our animals we arrived at the Safari we are now entering the park which means the game has begun okay here we go and immediately after entering the Safari we found our first animal first animal first animal oh that's me that's me Chip he done there's no way that's a chip bro that's aoon man that's a you got wrong one for real know how we can tell look at the back is it red yeah that's a red back there's another animal what's this no one picked this though that's like a weird bird bird no that's that's in my tree it was right here somewhere oh it's a seal it's a seal it's a seal you are the biggest cap star oh that's a parrot oh yeah they look oh they look like dragons and I reckon we need to make a song about the Safari man we need we need bet Squad in there you need to put what we're going to see in there yeah yeah so let's see what you got it's B Noe no that was good that was good that that sounded like had a high potential it's b a squad it's b a squad see today it's B it's Squad what's what's that on the right what's that on the right side of the road oh my God way Ro's been crossing the street for one year that is the most slow-mo animal I've seen in my life he took that to heart he took that to heart guys guys what be quiet you're scaring him this is the toris in its natural habitat see how it moves so slowly almost as slow as on a football pitch yeah got me that to gone man let's go goodbye T from one slow creature to another we then spotted sights of the elephants in the area the elephant and rhinos oh my and rhinos elephant and rhinos hey he yeah but where are they where are they you tell me where in this B yeah no yeah in the whole in the whole place is is here is here enjoy that you're never fighting your they and if the news about the elephants didn't break me enough the rocky roads definitely finished the job oh my you're right you're right you're right where's the warning oh see animals stop oh is that is that hippo what's that oh it is it is all first animal AJ's got first animal well done AJ we have gold crocodiles and I can see one there oh yeah look how did no of us say crocodile and how is the crocodile not eming off the birds no they wait they wait for it they wait for their time and they snap I can't think of anywhere on Earth that would be worse than going in that Lake hippos and crocod the coming out oh my God look at that one getting up you know that's big so right now that means the AJ is winning our Bingo challenge are they kissing if you look in the far distance you'll be able to see a nice hippopotami and I say hippopotami because there's two crazy animal good voice over a in the lead I'm currently winning this is easy peasy next I just need to see a tiger yeah you're done you're done oh crazy you know I almost went there I almost you know the little cow remember that hamster [Music] game go there live the babies I think they're gazelle there a jackal oh a jackal a jackal wait I see a gazelle my friend is that a gazelle the one with the horns Bas the Mills will have horns okay cool and the females won where are the Rhinos where are the Rhinos hey jaos can you tell us where the rhos are why he on me what did V say I'm in jail and I need a yo what's up boys go to some costes I see it I see it I see it I see two there look can you see them I see two oh yeah that's aich I'm good there we go ostrich I'm good on shark second second on the list done Sharky's coming up you said giraff I see I see I see with long necks there they are try get the point on the board are we going to see seal today seal yeah go to South Africa it go to South Africa what about what about what about cheah cheah you have I told you win I can get a clean Sweet N what you say man it's time to film a video stop hiding as the journey continued we kept seeing more animals but none of them were on our Bingo cards oh Hy H you know on God I was going to say hyena as well no one said hyena as well no no we flopped man we then drove right past a cheater but chunks never saw it so no points for him what you saw a cheater for one saying it's gone you can't claim it I if I saw it I'd not want to see it if that's the case and his time was slipping away we were losing hope we hadn't spotted any more of our animals starting to get dark now I'm starting to think that we might not actually capture all the animals we're pretty disappointed right now at this point our ra just jump in that river right now but then as it started getting dark we ended up encountering traffic oh my gosh there's a gir right here oh my gosh what are he doing on the road oh my God he's coming to us oh my this is crazy oh my gosh it's right here we are in it home territory I want to touch it I want to touch this is mental oh my gosh you're right next to it okay oh my gosh for on giraffe surely I get two points for giraffe oh my God I was right next to them oh my go he's giving him a show we got up close and past with a giraffe all right that's crazy however after this the only animals that got close were mosquitoes all right all we got now is mosquito just going in our eyes mosquito cont oh CH who hit me with that no me oh right now this road is not good please guys be careful cuz my ankle if one of you guys stumbles so make sure you're secure please pleas this is going so L I don't know why these guys are moving so crazy and honestly I don't know if we're going to make it out of here alive this was meant to be just a simple little Bingo night and I've got an injured ankle and I'm now worrying for my life this Bingo challenge is not looking good I haven't got anything I guess it's not what it was about what it was really about was getting to know Africa and what a place this is that was the wor get I've folded I've been folding he CH get the mosquito stop oh see I see mosqu mosqu that wasn't me that wasn't me I mosquito on your face hey this scar Hey listen we've been there for come to be 3 hours now and uh we've come across like four animals potentially the worst Safari I've seen in my life and I haven't been to Safari before I generally feel like if we went on Google and search where Safari it's this one it has to be and we've been attacked by mosquitoes in the w we reached this point in the video uh I'm sorry Safari song this track Safari Safari to we got s we I see I didn't [Music] see I didn't see I didn't see I didn't see that was cl you know that song so we have just finished our safari experience yes what a Time guys that it was underwhelming horrible potentially the worst thing I've seen in my had fun we got we got 703 mosquito bats to discover yeah we have we yeah more more mosquito bites than animal scene well with a total of zero animals spotted me and Kenny have come last and these three have all got one animal spotted but only one of you can be the king of Africa and AJ was the first person to see his animal so he want technicality so now now he's the king of you got the job on a technicality listen listen let me know in the comments down below cuz the giraffe was next us at this okay now I got a hippo if a hippo and a giraffe had a beef who would win that first how about this as well you were first pick oh and he didn't see Zero Zero I got I got o you got o you got the same place as a brother that said seals and how did we not see a Lon what Safari has no Ze be honest yeah it doesn't make sense so what I win what do I win here all right you win you win the opportunity to say the final words to the camera yeah there you go congrat hey now back to the UK we go go away oh yeah done down if you guys enjoyed this video and you can afford it it would mean the world if you could donate any money you can to the Water Project the water project.org beta they do some absolutely incredible work and we want to help them as much as we can\", metadata={'source': 'T-Ky46HVkd0'})\n"
     ]
    }
   ],
   "source": [
    "from langchain_community.document_loaders.youtube import TranscriptFormat\n",
    "\n",
    "loader = YoutubeLoader.from_youtube_url(\n",
    "    urls[0],\n",
    "    add_video_info=False,\n",
    ")\n",
    "print(\"\\n\\n\".join(map(repr, loader.load())))"
   ]
  },
  {
   "cell_type": "markdown",
   "metadata": {},
   "source": [
    "#### 4. XML Parser"
   ]
  },
  {
   "cell_type": "code",
   "execution_count": 21,
   "metadata": {},
   "outputs": [],
   "source": [
    "from langchain.output_parsers import XMLOutputParser\n",
    "from langchain_community.chat_models import ChatAnthropic\n",
    "from langchain_core.prompts import PromptTemplate\n",
    "from typing import List\n",
    "from langchain_core.pydantic_v1 import BaseModel, Field\n",
    "from langchain_openai import AzureChatOpenAI"
   ]
  },
  {
   "cell_type": "code",
   "execution_count": 22,
   "metadata": {},
   "outputs": [
    {
     "name": "stdout",
     "output_type": "stream",
     "text": [
      "Requirement already satisfied: defusedxml in c:\\users\\harshit.sharma\\appdata\\local\\anaconda3\\lib\\site-packages (0.7.1)\n"
     ]
    }
   ],
   "source": [
    "!pip install defusedxml"
   ]
  },
  {
   "cell_type": "code",
   "execution_count": 23,
   "metadata": {},
   "outputs": [],
   "source": [
    "from langchain_openai import AzureChatOpenAI\n",
    "model = AzureChatOpenAI(\n",
    "    temperature=0,\n",
    "    api_key=\"534036f31d14400b9f07a2cd7680af25\",\n",
    "    api_version=\"2024-02-01\",\n",
    "    azure_endpoint=\"https://dono-rag-demo-resource-instance.openai.azure.com\",\n",
    "    model=\"GPT_35_TURBO_DEMO_RAG_DEPLOYMENT_DONO\"\n",
    ")"
   ]
  },
  {
   "cell_type": "code",
   "execution_count": 24,
   "metadata": {},
   "outputs": [],
   "source": [
    "class Actor(BaseModel):\n",
    "    name: str = Field(description=\"name of an actor\")\n",
    "    film_names: List[str] = Field(description=\"list of names of films they starred in\")\n"
   ]
  },
  {
   "cell_type": "code",
   "execution_count": 30,
   "metadata": {},
   "outputs": [
    {
     "name": "stdout",
     "output_type": "stream",
     "text": [
      "{'movies': [{'actor': [{'name': 'RajKapoor'}]}]}\n",
      "{'movies': [{'actor': [{'film': [{'name': 'Awaara'}]}]}]}\n",
      "{'movies': [{'actor': [{'film': [{'genre': 'Drama'}]}]}]}\n",
      "{'movies': [{'actor': [{'film': [{'name': 'Shree 420'}]}]}]}\n",
      "{'movies': [{'actor': [{'film': [{'genre': 'Drama'}]}]}]}\n",
      "{'movies': [{'actor': [{'film': [{'name': 'Mera Naam Joker'}]}]}]}\n",
      "{'movies': [{'actor': [{'film': [{'genre': 'Drama'}]}]}]}\n"
     ]
    }
   ],
   "source": [
    "actor_query = \"Generate the filmography for RajKapoor.\"\n",
    "parser = XMLOutputParser(pydantic_object=Actor, tags=[\"movies\", \"actor\", \"film\", \"name\", \"genre\"])\n",
    "\n",
    "prompt = PromptTemplate(\n",
    "    template=\"Answer the user query.\\n{format_instructions}\\n{query}\\n\",\n",
    "    input_variables=[\"query\"],\n",
    "    partial_variables={\"format_instructions\": parser.get_format_instructions()},\n",
    ")\n",
    "\n",
    "chain = prompt | model | parser\n",
    "\n",
    "chain.invoke({\"query\": actor_query})\n",
    "for s in chain.stream({\"query\": actor_query}):\n",
    "    print(s)"
   ]
  },
  {
   "cell_type": "markdown",
   "metadata": {},
   "source": [
    "#### 4. YAML Parser"
   ]
  },
  {
   "cell_type": "code",
   "execution_count": 31,
   "metadata": {},
   "outputs": [],
   "source": [
    "from typing import List\n",
    "\n",
    "from langchain.output_parsers import YamlOutputParser\n",
    "from langchain_core.prompts import PromptTemplate\n",
    "from langchain_core.pydantic_v1 import BaseModel, Field\n",
    "from langchain_openai import AzureChatOpenAI"
   ]
  },
  {
   "cell_type": "code",
   "execution_count": 33,
   "metadata": {},
   "outputs": [],
   "source": [
    "class Actor(BaseModel):\n",
    "    name: str = Field(description=\"name of an actor\")\n",
    "    film_names: List[str] = Field(description=\"list of names of films they starred in\")"
   ]
  },
  {
   "cell_type": "code",
   "execution_count": 36,
   "metadata": {},
   "outputs": [
    {
     "name": "stdout",
     "output_type": "stream",
     "text": [
      "name='RajKapoor' film_names=['Awaara', 'Shree 420', 'Mera Naam Joker']\n"
     ]
    }
   ],
   "source": [
    "actor_query = \"Generate the filmography for RajKapoor.\"\n",
    "parser = YamlOutputParser(pydantic_object=Actor)\n",
    "\n",
    "prompt = PromptTemplate(\n",
    "    template=\"Answer the user query.\\n{format_instructions}\\n{query}\\n\",\n",
    "    input_variables=[\"query\"],\n",
    "    partial_variables={\"format_instructions\": parser.get_format_instructions()},\n",
    ")\n",
    "\n",
    "chain = prompt | model | parser\n",
    "\n",
    "chain.invoke({\"query\": actor_query})\n",
    "for s in chain.stream({\"query\": actor_query}):\n",
    "    print(s)"
   ]
  },
  {
   "cell_type": "markdown",
   "metadata": {},
   "source": [
    "\n",
    "#### 5. N-Gram Overlap Selector"
   ]
  },
  {
   "cell_type": "code",
   "execution_count": 40,
   "metadata": {},
   "outputs": [
    {
     "name": "stdout",
     "output_type": "stream",
     "text": [
      "Collecting langchain-chroma\n",
      "  Obtaining dependency information for langchain-chroma from https://files.pythonhosted.org/packages/cf/2f/66e209db560881be55a55f7ecbdc026ca3e45971833016401a951be78ab2/langchain_chroma-0.1.1-py3-none-any.whl.metadata\n",
      "  Downloading langchain_chroma-0.1.1-py3-none-any.whl.metadata (1.3 kB)\n",
      "Requirement already satisfied: chromadb<0.6.0,>=0.4.0 in c:\\users\\harshit.sharma\\appdata\\local\\anaconda3\\lib\\site-packages (from langchain-chroma) (0.5.0)\n",
      "Requirement already satisfied: fastapi<1,>=0.95.2 in c:\\users\\harshit.sharma\\appdata\\local\\anaconda3\\lib\\site-packages (from langchain-chroma) (0.110.2)\n",
      "Requirement already satisfied: langchain-core<0.3,>=0.1.40 in c:\\users\\harshit.sharma\\appdata\\local\\anaconda3\\lib\\site-packages (from langchain-chroma) (0.1.45)\n",
      "Requirement already satisfied: numpy<2,>=1 in c:\\users\\harshit.sharma\\appdata\\local\\anaconda3\\lib\\site-packages (from langchain-chroma) (1.24.3)\n",
      "Requirement already satisfied: build>=1.0.3 in c:\\users\\harshit.sharma\\appdata\\local\\anaconda3\\lib\\site-packages (from chromadb<0.6.0,>=0.4.0->langchain-chroma) (1.2.1)\n",
      "Requirement already satisfied: requests>=2.28 in c:\\users\\harshit.sharma\\appdata\\local\\anaconda3\\lib\\site-packages (from chromadb<0.6.0,>=0.4.0->langchain-chroma) (2.31.0)\n",
      "Requirement already satisfied: pydantic>=1.9 in c:\\users\\harshit.sharma\\appdata\\local\\anaconda3\\lib\\site-packages (from chromadb<0.6.0,>=0.4.0->langchain-chroma) (2.5.2)\n",
      "Requirement already satisfied: chroma-hnswlib==0.7.3 in c:\\users\\harshit.sharma\\appdata\\local\\anaconda3\\lib\\site-packages (from chromadb<0.6.0,>=0.4.0->langchain-chroma) (0.7.3)\n",
      "Requirement already satisfied: uvicorn[standard]>=0.18.3 in c:\\users\\harshit.sharma\\appdata\\local\\anaconda3\\lib\\site-packages (from chromadb<0.6.0,>=0.4.0->langchain-chroma) (0.29.0)\n",
      "Requirement already satisfied: posthog>=2.4.0 in c:\\users\\harshit.sharma\\appdata\\local\\anaconda3\\lib\\site-packages (from chromadb<0.6.0,>=0.4.0->langchain-chroma) (3.5.0)\n",
      "Requirement already satisfied: typing-extensions>=4.5.0 in c:\\users\\harshit.sharma\\appdata\\local\\anaconda3\\lib\\site-packages (from chromadb<0.6.0,>=0.4.0->langchain-chroma) (4.11.0)\n",
      "Requirement already satisfied: onnxruntime>=1.14.1 in c:\\users\\harshit.sharma\\appdata\\local\\anaconda3\\lib\\site-packages (from chromadb<0.6.0,>=0.4.0->langchain-chroma) (1.17.3)\n",
      "Requirement already satisfied: opentelemetry-api>=1.2.0 in c:\\users\\harshit.sharma\\appdata\\local\\anaconda3\\lib\\site-packages (from chromadb<0.6.0,>=0.4.0->langchain-chroma) (1.24.0)\n",
      "Requirement already satisfied: opentelemetry-exporter-otlp-proto-grpc>=1.2.0 in c:\\users\\harshit.sharma\\appdata\\local\\anaconda3\\lib\\site-packages (from chromadb<0.6.0,>=0.4.0->langchain-chroma) (1.24.0)\n",
      "Requirement already satisfied: opentelemetry-instrumentation-fastapi>=0.41b0 in c:\\users\\harshit.sharma\\appdata\\local\\anaconda3\\lib\\site-packages (from chromadb<0.6.0,>=0.4.0->langchain-chroma) (0.45b0)\n",
      "Requirement already satisfied: opentelemetry-sdk>=1.2.0 in c:\\users\\harshit.sharma\\appdata\\local\\anaconda3\\lib\\site-packages (from chromadb<0.6.0,>=0.4.0->langchain-chroma) (1.24.0)\n",
      "Requirement already satisfied: tokenizers>=0.13.2 in c:\\users\\harshit.sharma\\appdata\\local\\anaconda3\\lib\\site-packages (from chromadb<0.6.0,>=0.4.0->langchain-chroma) (0.19.1)\n",
      "Requirement already satisfied: pypika>=0.48.9 in c:\\users\\harshit.sharma\\appdata\\local\\anaconda3\\lib\\site-packages (from chromadb<0.6.0,>=0.4.0->langchain-chroma) (0.48.9)\n",
      "Requirement already satisfied: tqdm>=4.65.0 in c:\\users\\harshit.sharma\\appdata\\local\\anaconda3\\lib\\site-packages (from chromadb<0.6.0,>=0.4.0->langchain-chroma) (4.65.0)\n",
      "Requirement already satisfied: overrides>=7.3.1 in c:\\users\\harshit.sharma\\appdata\\local\\anaconda3\\lib\\site-packages (from chromadb<0.6.0,>=0.4.0->langchain-chroma) (7.7.0)\n",
      "Requirement already satisfied: importlib-resources in c:\\users\\harshit.sharma\\appdata\\local\\anaconda3\\lib\\site-packages (from chromadb<0.6.0,>=0.4.0->langchain-chroma) (6.1.0)\n",
      "Requirement already satisfied: grpcio>=1.58.0 in c:\\users\\harshit.sharma\\appdata\\local\\anaconda3\\lib\\site-packages (from chromadb<0.6.0,>=0.4.0->langchain-chroma) (1.62.2)\n",
      "Requirement already satisfied: bcrypt>=4.0.1 in c:\\users\\harshit.sharma\\appdata\\local\\anaconda3\\lib\\site-packages (from chromadb<0.6.0,>=0.4.0->langchain-chroma) (4.1.2)\n",
      "Requirement already satisfied: typer>=0.9.0 in c:\\users\\harshit.sharma\\appdata\\local\\anaconda3\\lib\\site-packages (from chromadb<0.6.0,>=0.4.0->langchain-chroma) (0.12.3)\n",
      "Requirement already satisfied: kubernetes>=28.1.0 in c:\\users\\harshit.sharma\\appdata\\local\\anaconda3\\lib\\site-packages (from chromadb<0.6.0,>=0.4.0->langchain-chroma) (29.0.0)\n",
      "Requirement already satisfied: tenacity>=8.2.3 in c:\\users\\harshit.sharma\\appdata\\local\\anaconda3\\lib\\site-packages (from chromadb<0.6.0,>=0.4.0->langchain-chroma) (8.2.3)\n",
      "Requirement already satisfied: PyYAML>=6.0.0 in c:\\users\\harshit.sharma\\appdata\\local\\anaconda3\\lib\\site-packages (from chromadb<0.6.0,>=0.4.0->langchain-chroma) (6.0)\n",
      "Requirement already satisfied: mmh3>=4.0.1 in c:\\users\\harshit.sharma\\appdata\\local\\anaconda3\\lib\\site-packages (from chromadb<0.6.0,>=0.4.0->langchain-chroma) (4.1.0)\n",
      "Requirement already satisfied: orjson>=3.9.12 in c:\\users\\harshit.sharma\\appdata\\local\\anaconda3\\lib\\site-packages (from chromadb<0.6.0,>=0.4.0->langchain-chroma) (3.10.1)\n",
      "Requirement already satisfied: starlette<0.38.0,>=0.37.2 in c:\\users\\harshit.sharma\\appdata\\local\\anaconda3\\lib\\site-packages (from fastapi<1,>=0.95.2->langchain-chroma) (0.37.2)\n",
      "Requirement already satisfied: jsonpatch<2.0,>=1.33 in c:\\users\\harshit.sharma\\appdata\\local\\anaconda3\\lib\\site-packages (from langchain-core<0.3,>=0.1.40->langchain-chroma) (1.33)\n",
      "Requirement already satisfied: langsmith<0.2.0,>=0.1.0 in c:\\users\\harshit.sharma\\appdata\\local\\anaconda3\\lib\\site-packages (from langchain-core<0.3,>=0.1.40->langchain-chroma) (0.1.50)\n",
      "Requirement already satisfied: packaging<24.0,>=23.2 in c:\\users\\harshit.sharma\\appdata\\local\\anaconda3\\lib\\site-packages (from langchain-core<0.3,>=0.1.40->langchain-chroma) (23.2)\n",
      "Requirement already satisfied: pyproject_hooks in c:\\users\\harshit.sharma\\appdata\\local\\anaconda3\\lib\\site-packages (from build>=1.0.3->chromadb<0.6.0,>=0.4.0->langchain-chroma) (1.0.0)\n",
      "Requirement already satisfied: colorama in c:\\users\\harshit.sharma\\appdata\\local\\anaconda3\\lib\\site-packages (from build>=1.0.3->chromadb<0.6.0,>=0.4.0->langchain-chroma) (0.4.6)\n",
      "Requirement already satisfied: jsonpointer>=1.9 in c:\\users\\harshit.sharma\\appdata\\local\\anaconda3\\lib\\site-packages (from jsonpatch<2.0,>=1.33->langchain-core<0.3,>=0.1.40->langchain-chroma) (2.1)\n",
      "Requirement already satisfied: certifi>=14.05.14 in c:\\users\\harshit.sharma\\appdata\\local\\anaconda3\\lib\\site-packages (from kubernetes>=28.1.0->chromadb<0.6.0,>=0.4.0->langchain-chroma) (2023.7.22)\n",
      "Requirement already satisfied: six>=1.9.0 in c:\\users\\harshit.sharma\\appdata\\local\\anaconda3\\lib\\site-packages (from kubernetes>=28.1.0->chromadb<0.6.0,>=0.4.0->langchain-chroma) (1.16.0)\n",
      "Requirement already satisfied: python-dateutil>=2.5.3 in c:\\users\\harshit.sharma\\appdata\\local\\anaconda3\\lib\\site-packages (from kubernetes>=28.1.0->chromadb<0.6.0,>=0.4.0->langchain-chroma) (2.8.2)\n",
      "Requirement already satisfied: google-auth>=1.0.1 in c:\\users\\harshit.sharma\\appdata\\local\\anaconda3\\lib\\site-packages (from kubernetes>=28.1.0->chromadb<0.6.0,>=0.4.0->langchain-chroma) (2.26.2)\n",
      "Requirement already satisfied: websocket-client!=0.40.0,!=0.41.*,!=0.42.*,>=0.32.0 in c:\\users\\harshit.sharma\\appdata\\local\\anaconda3\\lib\\site-packages (from kubernetes>=28.1.0->chromadb<0.6.0,>=0.4.0->langchain-chroma) (0.58.0)\n",
      "Requirement already satisfied: requests-oauthlib in c:\\users\\harshit.sharma\\appdata\\local\\anaconda3\\lib\\site-packages (from kubernetes>=28.1.0->chromadb<0.6.0,>=0.4.0->langchain-chroma) (2.0.0)\n",
      "Requirement already satisfied: oauthlib>=3.2.2 in c:\\users\\harshit.sharma\\appdata\\local\\anaconda3\\lib\\site-packages (from kubernetes>=28.1.0->chromadb<0.6.0,>=0.4.0->langchain-chroma) (3.2.2)\n",
      "Requirement already satisfied: urllib3>=1.24.2 in c:\\users\\harshit.sharma\\appdata\\local\\anaconda3\\lib\\site-packages (from kubernetes>=28.1.0->chromadb<0.6.0,>=0.4.0->langchain-chroma) (2.2.1)\n",
      "Requirement already satisfied: coloredlogs in c:\\users\\harshit.sharma\\appdata\\local\\anaconda3\\lib\\site-packages (from onnxruntime>=1.14.1->chromadb<0.6.0,>=0.4.0->langchain-chroma) (15.0.1)\n",
      "Requirement already satisfied: flatbuffers in c:\\users\\harshit.sharma\\appdata\\local\\anaconda3\\lib\\site-packages (from onnxruntime>=1.14.1->chromadb<0.6.0,>=0.4.0->langchain-chroma) (24.3.25)\n",
      "Requirement already satisfied: protobuf in c:\\users\\harshit.sharma\\appdata\\local\\anaconda3\\lib\\site-packages (from onnxruntime>=1.14.1->chromadb<0.6.0,>=0.4.0->langchain-chroma) (4.25.2)\n",
      "Requirement already satisfied: sympy in c:\\users\\harshit.sharma\\appdata\\local\\anaconda3\\lib\\site-packages (from onnxruntime>=1.14.1->chromadb<0.6.0,>=0.4.0->langchain-chroma) (1.11.1)\n",
      "Requirement already satisfied: deprecated>=1.2.6 in c:\\users\\harshit.sharma\\appdata\\local\\anaconda3\\lib\\site-packages (from opentelemetry-api>=1.2.0->chromadb<0.6.0,>=0.4.0->langchain-chroma) (1.2.14)\n",
      "Requirement already satisfied: importlib-metadata<=7.0,>=6.0 in c:\\users\\harshit.sharma\\appdata\\local\\anaconda3\\lib\\site-packages (from opentelemetry-api>=1.2.0->chromadb<0.6.0,>=0.4.0->langchain-chroma) (6.0.0)\n",
      "Requirement already satisfied: googleapis-common-protos~=1.52 in c:\\users\\harshit.sharma\\appdata\\local\\anaconda3\\lib\\site-packages (from opentelemetry-exporter-otlp-proto-grpc>=1.2.0->chromadb<0.6.0,>=0.4.0->langchain-chroma) (1.62.0)\n",
      "Requirement already satisfied: opentelemetry-exporter-otlp-proto-common==1.24.0 in c:\\users\\harshit.sharma\\appdata\\local\\anaconda3\\lib\\site-packages (from opentelemetry-exporter-otlp-proto-grpc>=1.2.0->chromadb<0.6.0,>=0.4.0->langchain-chroma) (1.24.0)\n",
      "Requirement already satisfied: opentelemetry-proto==1.24.0 in c:\\users\\harshit.sharma\\appdata\\local\\anaconda3\\lib\\site-packages (from opentelemetry-exporter-otlp-proto-grpc>=1.2.0->chromadb<0.6.0,>=0.4.0->langchain-chroma) (1.24.0)\n",
      "Requirement already satisfied: opentelemetry-instrumentation-asgi==0.45b0 in c:\\users\\harshit.sharma\\appdata\\local\\anaconda3\\lib\\site-packages (from opentelemetry-instrumentation-fastapi>=0.41b0->chromadb<0.6.0,>=0.4.0->langchain-chroma) (0.45b0)\n",
      "Requirement already satisfied: opentelemetry-instrumentation==0.45b0 in c:\\users\\harshit.sharma\\appdata\\local\\anaconda3\\lib\\site-packages (from opentelemetry-instrumentation-fastapi>=0.41b0->chromadb<0.6.0,>=0.4.0->langchain-chroma) (0.45b0)\n",
      "Requirement already satisfied: opentelemetry-semantic-conventions==0.45b0 in c:\\users\\harshit.sharma\\appdata\\local\\anaconda3\\lib\\site-packages (from opentelemetry-instrumentation-fastapi>=0.41b0->chromadb<0.6.0,>=0.4.0->langchain-chroma) (0.45b0)\n",
      "Requirement already satisfied: opentelemetry-util-http==0.45b0 in c:\\users\\harshit.sharma\\appdata\\local\\anaconda3\\lib\\site-packages (from opentelemetry-instrumentation-fastapi>=0.41b0->chromadb<0.6.0,>=0.4.0->langchain-chroma) (0.45b0)\n",
      "Requirement already satisfied: setuptools>=16.0 in c:\\users\\harshit.sharma\\appdata\\local\\anaconda3\\lib\\site-packages (from opentelemetry-instrumentation==0.45b0->opentelemetry-instrumentation-fastapi>=0.41b0->chromadb<0.6.0,>=0.4.0->langchain-chroma) (68.0.0)\n",
      "Requirement already satisfied: wrapt<2.0.0,>=1.0.0 in c:\\users\\harshit.sharma\\appdata\\local\\anaconda3\\lib\\site-packages (from opentelemetry-instrumentation==0.45b0->opentelemetry-instrumentation-fastapi>=0.41b0->chromadb<0.6.0,>=0.4.0->langchain-chroma) (1.14.1)\n",
      "Requirement already satisfied: asgiref~=3.0 in c:\\users\\harshit.sharma\\appdata\\local\\anaconda3\\lib\\site-packages (from opentelemetry-instrumentation-asgi==0.45b0->opentelemetry-instrumentation-fastapi>=0.41b0->chromadb<0.6.0,>=0.4.0->langchain-chroma) (3.8.1)\n",
      "Requirement already satisfied: monotonic>=1.5 in c:\\users\\harshit.sharma\\appdata\\local\\anaconda3\\lib\\site-packages (from posthog>=2.4.0->chromadb<0.6.0,>=0.4.0->langchain-chroma) (1.6)\n",
      "Requirement already satisfied: backoff>=1.10.0 in c:\\users\\harshit.sharma\\appdata\\local\\anaconda3\\lib\\site-packages (from posthog>=2.4.0->chromadb<0.6.0,>=0.4.0->langchain-chroma) (2.2.1)\n",
      "Requirement already satisfied: annotated-types>=0.4.0 in c:\\users\\harshit.sharma\\appdata\\local\\anaconda3\\lib\\site-packages (from pydantic>=1.9->chromadb<0.6.0,>=0.4.0->langchain-chroma) (0.6.0)\n",
      "Requirement already satisfied: pydantic-core==2.14.5 in c:\\users\\harshit.sharma\\appdata\\local\\anaconda3\\lib\\site-packages (from pydantic>=1.9->chromadb<0.6.0,>=0.4.0->langchain-chroma) (2.14.5)\n",
      "Requirement already satisfied: charset-normalizer<4,>=2 in c:\\users\\harshit.sharma\\appdata\\local\\anaconda3\\lib\\site-packages (from requests>=2.28->chromadb<0.6.0,>=0.4.0->langchain-chroma) (2.0.4)\n",
      "Requirement already satisfied: idna<4,>=2.5 in c:\\users\\harshit.sharma\\appdata\\local\\anaconda3\\lib\\site-packages (from requests>=2.28->chromadb<0.6.0,>=0.4.0->langchain-chroma) (3.4)\n",
      "Requirement already satisfied: anyio<5,>=3.4.0 in c:\\users\\harshit.sharma\\appdata\\local\\anaconda3\\lib\\site-packages (from starlette<0.38.0,>=0.37.2->fastapi<1,>=0.95.2->langchain-chroma) (3.5.0)\n",
      "Requirement already satisfied: huggingface-hub<1.0,>=0.16.4 in c:\\users\\harshit.sharma\\appdata\\local\\anaconda3\\lib\\site-packages (from tokenizers>=0.13.2->chromadb<0.6.0,>=0.4.0->langchain-chroma) (0.20.3)\n",
      "Requirement already satisfied: click>=8.0.0 in c:\\users\\harshit.sharma\\appdata\\local\\anaconda3\\lib\\site-packages (from typer>=0.9.0->chromadb<0.6.0,>=0.4.0->langchain-chroma) (8.0.4)\n",
      "Requirement already satisfied: shellingham>=1.3.0 in c:\\users\\harshit.sharma\\appdata\\local\\anaconda3\\lib\\site-packages (from typer>=0.9.0->chromadb<0.6.0,>=0.4.0->langchain-chroma) (1.5.4)\n",
      "Requirement already satisfied: rich>=10.11.0 in c:\\users\\harshit.sharma\\appdata\\local\\anaconda3\\lib\\site-packages (from typer>=0.9.0->chromadb<0.6.0,>=0.4.0->langchain-chroma) (13.7.1)\n",
      "Requirement already satisfied: h11>=0.8 in c:\\users\\harshit.sharma\\appdata\\local\\anaconda3\\lib\\site-packages (from uvicorn[standard]>=0.18.3->chromadb<0.6.0,>=0.4.0->langchain-chroma) (0.14.0)\n",
      "Requirement already satisfied: httptools>=0.5.0 in c:\\users\\harshit.sharma\\appdata\\local\\anaconda3\\lib\\site-packages (from uvicorn[standard]>=0.18.3->chromadb<0.6.0,>=0.4.0->langchain-chroma) (0.6.1)\n",
      "Requirement already satisfied: python-dotenv>=0.13 in c:\\users\\harshit.sharma\\appdata\\local\\anaconda3\\lib\\site-packages (from uvicorn[standard]>=0.18.3->chromadb<0.6.0,>=0.4.0->langchain-chroma) (1.0.1)\n",
      "Requirement already satisfied: watchfiles>=0.13 in c:\\users\\harshit.sharma\\appdata\\local\\anaconda3\\lib\\site-packages (from uvicorn[standard]>=0.18.3->chromadb<0.6.0,>=0.4.0->langchain-chroma) (0.21.0)\n",
      "Requirement already satisfied: websockets>=10.4 in c:\\users\\harshit.sharma\\appdata\\local\\anaconda3\\lib\\site-packages (from uvicorn[standard]>=0.18.3->chromadb<0.6.0,>=0.4.0->langchain-chroma) (11.0.3)\n",
      "Requirement already satisfied: sniffio>=1.1 in c:\\users\\harshit.sharma\\appdata\\local\\anaconda3\\lib\\site-packages (from anyio<5,>=3.4.0->starlette<0.38.0,>=0.37.2->fastapi<1,>=0.95.2->langchain-chroma) (1.2.0)\n",
      "Requirement already satisfied: cachetools<6.0,>=2.0.0 in c:\\users\\harshit.sharma\\appdata\\local\\anaconda3\\lib\\site-packages (from google-auth>=1.0.1->kubernetes>=28.1.0->chromadb<0.6.0,>=0.4.0->langchain-chroma) (5.3.2)\n",
      "Requirement already satisfied: pyasn1-modules>=0.2.1 in c:\\users\\harshit.sharma\\appdata\\local\\anaconda3\\lib\\site-packages (from google-auth>=1.0.1->kubernetes>=28.1.0->chromadb<0.6.0,>=0.4.0->langchain-chroma) (0.2.8)\n",
      "Requirement already satisfied: rsa<5,>=3.1.4 in c:\\users\\harshit.sharma\\appdata\\local\\anaconda3\\lib\\site-packages (from google-auth>=1.0.1->kubernetes>=28.1.0->chromadb<0.6.0,>=0.4.0->langchain-chroma) (4.9)\n",
      "Requirement already satisfied: filelock in c:\\users\\harshit.sharma\\appdata\\local\\anaconda3\\lib\\site-packages (from huggingface-hub<1.0,>=0.16.4->tokenizers>=0.13.2->chromadb<0.6.0,>=0.4.0->langchain-chroma) (3.9.0)\n",
      "Requirement already satisfied: fsspec>=2023.5.0 in c:\\users\\harshit.sharma\\appdata\\local\\anaconda3\\lib\\site-packages (from huggingface-hub<1.0,>=0.16.4->tokenizers>=0.13.2->chromadb<0.6.0,>=0.4.0->langchain-chroma) (2023.12.2)\n",
      "Requirement already satisfied: zipp>=0.5 in c:\\users\\harshit.sharma\\appdata\\local\\anaconda3\\lib\\site-packages (from importlib-metadata<=7.0,>=6.0->opentelemetry-api>=1.2.0->chromadb<0.6.0,>=0.4.0->langchain-chroma) (3.11.0)\n",
      "Requirement already satisfied: markdown-it-py>=2.2.0 in c:\\users\\harshit.sharma\\appdata\\local\\anaconda3\\lib\\site-packages (from rich>=10.11.0->typer>=0.9.0->chromadb<0.6.0,>=0.4.0->langchain-chroma) (2.2.0)\n",
      "Requirement already satisfied: pygments<3.0.0,>=2.13.0 in c:\\users\\harshit.sharma\\appdata\\local\\anaconda3\\lib\\site-packages (from rich>=10.11.0->typer>=0.9.0->chromadb<0.6.0,>=0.4.0->langchain-chroma) (2.15.1)\n",
      "Requirement already satisfied: humanfriendly>=9.1 in c:\\users\\harshit.sharma\\appdata\\local\\anaconda3\\lib\\site-packages (from coloredlogs->onnxruntime>=1.14.1->chromadb<0.6.0,>=0.4.0->langchain-chroma) (10.0)\n",
      "Requirement already satisfied: mpmath>=0.19 in c:\\users\\harshit.sharma\\appdata\\local\\anaconda3\\lib\\site-packages (from sympy->onnxruntime>=1.14.1->chromadb<0.6.0,>=0.4.0->langchain-chroma) (1.3.0)\n",
      "Requirement already satisfied: pyreadline3 in c:\\users\\harshit.sharma\\appdata\\local\\anaconda3\\lib\\site-packages (from humanfriendly>=9.1->coloredlogs->onnxruntime>=1.14.1->chromadb<0.6.0,>=0.4.0->langchain-chroma) (3.4.1)\n",
      "Requirement already satisfied: mdurl~=0.1 in c:\\users\\harshit.sharma\\appdata\\local\\anaconda3\\lib\\site-packages (from markdown-it-py>=2.2.0->rich>=10.11.0->typer>=0.9.0->chromadb<0.6.0,>=0.4.0->langchain-chroma) (0.1.0)\n",
      "Requirement already satisfied: pyasn1<0.5.0,>=0.4.6 in c:\\users\\harshit.sharma\\appdata\\local\\anaconda3\\lib\\site-packages (from pyasn1-modules>=0.2.1->google-auth>=1.0.1->kubernetes>=28.1.0->chromadb<0.6.0,>=0.4.0->langchain-chroma) (0.4.8)\n",
      "Downloading langchain_chroma-0.1.1-py3-none-any.whl (8.5 kB)\n",
      "Installing collected packages: langchain-chroma\n",
      "Successfully installed langchain-chroma-0.1.1\n"
     ]
    },
    {
     "name": "stdout",
     "output_type": "stream",
     "text": [
      "Requirement already satisfied: langchain-openai in c:\\users\\harshit.sharma\\appdata\\local\\anaconda3\\lib\\site-packages (0.1.3)\n",
      "Requirement already satisfied: langchain-core<0.2.0,>=0.1.42 in c:\\users\\harshit.sharma\\appdata\\local\\anaconda3\\lib\\site-packages (from langchain-openai) (0.1.45)\n",
      "Requirement already satisfied: openai<2.0.0,>=1.10.0 in c:\\users\\harshit.sharma\\appdata\\local\\anaconda3\\lib\\site-packages (from langchain-openai) (1.23.6)\n",
      "Requirement already satisfied: tiktoken<1,>=0.5.2 in c:\\users\\harshit.sharma\\appdata\\local\\anaconda3\\lib\\site-packages (from langchain-openai) (0.6.0)\n",
      "Requirement already satisfied: PyYAML>=5.3 in c:\\users\\harshit.sharma\\appdata\\local\\anaconda3\\lib\\site-packages (from langchain-core<0.2.0,>=0.1.42->langchain-openai) (6.0)\n",
      "Requirement already satisfied: jsonpatch<2.0,>=1.33 in c:\\users\\harshit.sharma\\appdata\\local\\anaconda3\\lib\\site-packages (from langchain-core<0.2.0,>=0.1.42->langchain-openai) (1.33)\n",
      "Requirement already satisfied: langsmith<0.2.0,>=0.1.0 in c:\\users\\harshit.sharma\\appdata\\local\\anaconda3\\lib\\site-packages (from langchain-core<0.2.0,>=0.1.42->langchain-openai) (0.1.50)\n",
      "Requirement already satisfied: packaging<24.0,>=23.2 in c:\\users\\harshit.sharma\\appdata\\local\\anaconda3\\lib\\site-packages (from langchain-core<0.2.0,>=0.1.42->langchain-openai) (23.2)\n",
      "Requirement already satisfied: pydantic<3,>=1 in c:\\users\\harshit.sharma\\appdata\\local\\anaconda3\\lib\\site-packages (from langchain-core<0.2.0,>=0.1.42->langchain-openai) (2.5.2)\n",
      "Requirement already satisfied: tenacity<9.0.0,>=8.1.0 in c:\\users\\harshit.sharma\\appdata\\local\\anaconda3\\lib\\site-packages (from langchain-core<0.2.0,>=0.1.42->langchain-openai) (8.2.3)\n",
      "Requirement already satisfied: anyio<5,>=3.5.0 in c:\\users\\harshit.sharma\\appdata\\local\\anaconda3\\lib\\site-packages (from openai<2.0.0,>=1.10.0->langchain-openai) (3.5.0)\n",
      "Requirement already satisfied: distro<2,>=1.7.0 in c:\\users\\harshit.sharma\\appdata\\local\\anaconda3\\lib\\site-packages (from openai<2.0.0,>=1.10.0->langchain-openai) (1.9.0)\n",
      "Requirement already satisfied: httpx<1,>=0.23.0 in c:\\users\\harshit.sharma\\appdata\\local\\anaconda3\\lib\\site-packages (from openai<2.0.0,>=1.10.0->langchain-openai) (0.24.1)\n",
      "Requirement already satisfied: sniffio in c:\\users\\harshit.sharma\\appdata\\local\\anaconda3\\lib\\site-packages (from openai<2.0.0,>=1.10.0->langchain-openai) (1.2.0)\n",
      "Requirement already satisfied: tqdm>4 in c:\\users\\harshit.sharma\\appdata\\local\\anaconda3\\lib\\site-packages (from openai<2.0.0,>=1.10.0->langchain-openai) (4.65.0)\n",
      "Requirement already satisfied: typing-extensions<5,>=4.7 in c:\\users\\harshit.sharma\\appdata\\local\\anaconda3\\lib\\site-packages (from openai<2.0.0,>=1.10.0->langchain-openai) (4.11.0)\n",
      "Requirement already satisfied: regex>=2022.1.18 in c:\\users\\harshit.sharma\\appdata\\local\\anaconda3\\lib\\site-packages (from tiktoken<1,>=0.5.2->langchain-openai) (2022.7.9)\n",
      "Requirement already satisfied: requests>=2.26.0 in c:\\users\\harshit.sharma\\appdata\\local\\anaconda3\\lib\\site-packages (from tiktoken<1,>=0.5.2->langchain-openai) (2.31.0)\n",
      "Requirement already satisfied: idna>=2.8 in c:\\users\\harshit.sharma\\appdata\\local\\anaconda3\\lib\\site-packages (from anyio<5,>=3.5.0->openai<2.0.0,>=1.10.0->langchain-openai) (3.4)\n",
      "Requirement already satisfied: certifi in c:\\users\\harshit.sharma\\appdata\\local\\anaconda3\\lib\\site-packages (from httpx<1,>=0.23.0->openai<2.0.0,>=1.10.0->langchain-openai) (2023.7.22)\n",
      "Requirement already satisfied: httpcore<0.18.0,>=0.15.0 in c:\\users\\harshit.sharma\\appdata\\local\\anaconda3\\lib\\site-packages (from httpx<1,>=0.23.0->openai<2.0.0,>=1.10.0->langchain-openai) (0.17.3)\n",
      "Requirement already satisfied: jsonpointer>=1.9 in c:\\users\\harshit.sharma\\appdata\\local\\anaconda3\\lib\\site-packages (from jsonpatch<2.0,>=1.33->langchain-core<0.2.0,>=0.1.42->langchain-openai) (2.1)\n",
      "Requirement already satisfied: orjson<4.0.0,>=3.9.14 in c:\\users\\harshit.sharma\\appdata\\local\\anaconda3\\lib\\site-packages (from langsmith<0.2.0,>=0.1.0->langchain-core<0.2.0,>=0.1.42->langchain-openai) (3.10.1)\n",
      "Requirement already satisfied: annotated-types>=0.4.0 in c:\\users\\harshit.sharma\\appdata\\local\\anaconda3\\lib\\site-packages (from pydantic<3,>=1->langchain-core<0.2.0,>=0.1.42->langchain-openai) (0.6.0)\n",
      "Requirement already satisfied: pydantic-core==2.14.5 in c:\\users\\harshit.sharma\\appdata\\local\\anaconda3\\lib\\site-packages (from pydantic<3,>=1->langchain-core<0.2.0,>=0.1.42->langchain-openai) (2.14.5)\n",
      "Requirement already satisfied: charset-normalizer<4,>=2 in c:\\users\\harshit.sharma\\appdata\\local\\anaconda3\\lib\\site-packages (from requests>=2.26.0->tiktoken<1,>=0.5.2->langchain-openai) (2.0.4)\n",
      "Requirement already satisfied: urllib3<3,>=1.21.1 in c:\\users\\harshit.sharma\\appdata\\local\\anaconda3\\lib\\site-packages (from requests>=2.26.0->tiktoken<1,>=0.5.2->langchain-openai) (2.2.1)\n",
      "Requirement already satisfied: colorama in c:\\users\\harshit.sharma\\appdata\\local\\anaconda3\\lib\\site-packages (from tqdm>4->openai<2.0.0,>=1.10.0->langchain-openai) (0.4.6)\n",
      "Requirement already satisfied: h11<0.15,>=0.13 in c:\\users\\harshit.sharma\\appdata\\local\\anaconda3\\lib\\site-packages (from httpcore<0.18.0,>=0.15.0->httpx<1,>=0.23.0->openai<2.0.0,>=1.10.0->langchain-openai) (0.14.0)\n",
      "Requirement already satisfied: langchain-community in c:\\users\\harshit.sharma\\appdata\\local\\anaconda3\\lib\\site-packages (0.0.34)\n",
      "Collecting langchain-community\n",
      "  Obtaining dependency information for langchain-community from https://files.pythonhosted.org/packages/ed/fc/1c3bed764d4e3575b0d81a8700d429bca4b89ea18ac756fef771fc91f0bf/langchain_community-0.2.4-py3-none-any.whl.metadata\n",
      "  Downloading langchain_community-0.2.4-py3-none-any.whl.metadata (2.4 kB)\n",
      "Requirement already satisfied: PyYAML>=5.3 in c:\\users\\harshit.sharma\\appdata\\local\\anaconda3\\lib\\site-packages (from langchain-community) (6.0)\n",
      "Requirement already satisfied: SQLAlchemy<3,>=1.4 in c:\\users\\harshit.sharma\\appdata\\local\\anaconda3\\lib\\site-packages (from langchain-community) (1.4.39)\n",
      "Requirement already satisfied: aiohttp<4.0.0,>=3.8.3 in c:\\users\\harshit.sharma\\appdata\\local\\anaconda3\\lib\\site-packages (from langchain-community) (3.8.3)\n",
      "Requirement already satisfied: dataclasses-json<0.7,>=0.5.7 in c:\\users\\harshit.sharma\\appdata\\local\\anaconda3\\lib\\site-packages (from langchain-community) (0.6.3)\n",
      "Collecting langchain<0.3.0,>=0.2.0 (from langchain-community)\n",
      "  Obtaining dependency information for langchain<0.3.0,>=0.2.0 from https://files.pythonhosted.org/packages/cb/e7/2556005908c42be3ab384e289729a21766c761a21186f2f433aa475e859f/langchain-0.2.3-py3-none-any.whl.metadata\n",
      "  Downloading langchain-0.2.3-py3-none-any.whl.metadata (6.9 kB)\n",
      "Collecting langchain-core<0.3.0,>=0.2.0 (from langchain-community)\n",
      "  Obtaining dependency information for langchain-core<0.3.0,>=0.2.0 from https://files.pythonhosted.org/packages/18/d6/6eb8bf9b340b8827874a9c065d195af66e3287be0832a7c7143f30747c6e/langchain_core-0.2.5-py3-none-any.whl.metadata\n",
      "  Downloading langchain_core-0.2.5-py3-none-any.whl.metadata (5.8 kB)\n",
      "Requirement already satisfied: langsmith<0.2.0,>=0.1.0 in c:\\users\\harshit.sharma\\appdata\\local\\anaconda3\\lib\\site-packages (from langchain-community) (0.1.50)\n",
      "Requirement already satisfied: numpy<2,>=1 in c:\\users\\harshit.sharma\\appdata\\local\\anaconda3\\lib\\site-packages (from langchain-community) (1.24.3)\n",
      "Requirement already satisfied: requests<3,>=2 in c:\\users\\harshit.sharma\\appdata\\local\\anaconda3\\lib\\site-packages (from langchain-community) (2.31.0)\n",
      "Requirement already satisfied: tenacity<9.0.0,>=8.1.0 in c:\\users\\harshit.sharma\\appdata\\local\\anaconda3\\lib\\site-packages (from langchain-community) (8.2.3)\n",
      "Requirement already satisfied: attrs>=17.3.0 in c:\\users\\harshit.sharma\\appdata\\local\\anaconda3\\lib\\site-packages (from aiohttp<4.0.0,>=3.8.3->langchain-community) (22.1.0)\n",
      "Requirement already satisfied: charset-normalizer<3.0,>=2.0 in c:\\users\\harshit.sharma\\appdata\\local\\anaconda3\\lib\\site-packages (from aiohttp<4.0.0,>=3.8.3->langchain-community) (2.0.4)\n",
      "Requirement already satisfied: multidict<7.0,>=4.5 in c:\\users\\harshit.sharma\\appdata\\local\\anaconda3\\lib\\site-packages (from aiohttp<4.0.0,>=3.8.3->langchain-community) (6.0.2)\n",
      "Requirement already satisfied: async-timeout<5.0,>=4.0.0a3 in c:\\users\\harshit.sharma\\appdata\\local\\anaconda3\\lib\\site-packages (from aiohttp<4.0.0,>=3.8.3->langchain-community) (4.0.2)\n",
      "Requirement already satisfied: yarl<2.0,>=1.0 in c:\\users\\harshit.sharma\\appdata\\local\\anaconda3\\lib\\site-packages (from aiohttp<4.0.0,>=3.8.3->langchain-community) (1.8.1)\n",
      "Requirement already satisfied: frozenlist>=1.1.1 in c:\\users\\harshit.sharma\\appdata\\local\\anaconda3\\lib\\site-packages (from aiohttp<4.0.0,>=3.8.3->langchain-community) (1.3.3)\n",
      "Requirement already satisfied: aiosignal>=1.1.2 in c:\\users\\harshit.sharma\\appdata\\local\\anaconda3\\lib\\site-packages (from aiohttp<4.0.0,>=3.8.3->langchain-community) (1.2.0)\n",
      "Requirement already satisfied: marshmallow<4.0.0,>=3.18.0 in c:\\users\\harshit.sharma\\appdata\\local\\anaconda3\\lib\\site-packages (from dataclasses-json<0.7,>=0.5.7->langchain-community) (3.20.2)\n",
      "Requirement already satisfied: typing-inspect<1,>=0.4.0 in c:\\users\\harshit.sharma\\appdata\\local\\anaconda3\\lib\\site-packages (from dataclasses-json<0.7,>=0.5.7->langchain-community) (0.9.0)\n",
      "Collecting langchain-text-splitters<0.3.0,>=0.2.0 (from langchain<0.3.0,>=0.2.0->langchain-community)\n",
      "  Obtaining dependency information for langchain-text-splitters<0.3.0,>=0.2.0 from https://files.pythonhosted.org/packages/a9/d9/31b1b5415be5201ec1ba34ab04f47a92c69174d7817d70b51693fb60e780/langchain_text_splitters-0.2.1-py3-none-any.whl.metadata\n",
      "  Downloading langchain_text_splitters-0.2.1-py3-none-any.whl.metadata (2.2 kB)\n",
      "Requirement already satisfied: pydantic<3,>=1 in c:\\users\\harshit.sharma\\appdata\\local\\anaconda3\\lib\\site-packages (from langchain<0.3.0,>=0.2.0->langchain-community) (2.5.2)\n",
      "Requirement already satisfied: jsonpatch<2.0,>=1.33 in c:\\users\\harshit.sharma\\appdata\\local\\anaconda3\\lib\\site-packages (from langchain-core<0.3.0,>=0.2.0->langchain-community) (1.33)\n",
      "Collecting langsmith<0.2.0,>=0.1.0 (from langchain-community)\n",
      "  Obtaining dependency information for langsmith<0.2.0,>=0.1.0 from https://files.pythonhosted.org/packages/88/9c/6944b7c8f37d690eb98f887e8c58bf67d7971a5b891fccab2cee7d4fc776/langsmith-0.1.77-py3-none-any.whl.metadata\n",
      "  Downloading langsmith-0.1.77-py3-none-any.whl.metadata (13 kB)\n",
      "Requirement already satisfied: packaging<24.0,>=23.2 in c:\\users\\harshit.sharma\\appdata\\local\\anaconda3\\lib\\site-packages (from langchain-core<0.3.0,>=0.2.0->langchain-community) (23.2)\n",
      "Requirement already satisfied: orjson<4.0.0,>=3.9.14 in c:\\users\\harshit.sharma\\appdata\\local\\anaconda3\\lib\\site-packages (from langsmith<0.2.0,>=0.1.0->langchain-community) (3.10.1)\n",
      "Requirement already satisfied: idna<4,>=2.5 in c:\\users\\harshit.sharma\\appdata\\local\\anaconda3\\lib\\site-packages (from requests<3,>=2->langchain-community) (3.4)\n",
      "Requirement already satisfied: urllib3<3,>=1.21.1 in c:\\users\\harshit.sharma\\appdata\\local\\anaconda3\\lib\\site-packages (from requests<3,>=2->langchain-community) (2.2.1)\n",
      "Requirement already satisfied: certifi>=2017.4.17 in c:\\users\\harshit.sharma\\appdata\\local\\anaconda3\\lib\\site-packages (from requests<3,>=2->langchain-community) (2023.7.22)\n",
      "Requirement already satisfied: greenlet!=0.4.17 in c:\\users\\harshit.sharma\\appdata\\local\\anaconda3\\lib\\site-packages (from SQLAlchemy<3,>=1.4->langchain-community) (2.0.1)\n",
      "Requirement already satisfied: jsonpointer>=1.9 in c:\\users\\harshit.sharma\\appdata\\local\\anaconda3\\lib\\site-packages (from jsonpatch<2.0,>=1.33->langchain-core<0.3.0,>=0.2.0->langchain-community) (2.1)\n",
      "Requirement already satisfied: annotated-types>=0.4.0 in c:\\users\\harshit.sharma\\appdata\\local\\anaconda3\\lib\\site-packages (from pydantic<3,>=1->langchain<0.3.0,>=0.2.0->langchain-community) (0.6.0)\n",
      "Requirement already satisfied: pydantic-core==2.14.5 in c:\\users\\harshit.sharma\\appdata\\local\\anaconda3\\lib\\site-packages (from pydantic<3,>=1->langchain<0.3.0,>=0.2.0->langchain-community) (2.14.5)\n",
      "Requirement already satisfied: typing-extensions>=4.6.1 in c:\\users\\harshit.sharma\\appdata\\local\\anaconda3\\lib\\site-packages (from pydantic<3,>=1->langchain<0.3.0,>=0.2.0->langchain-community) (4.11.0)\n",
      "Requirement already satisfied: mypy-extensions>=0.3.0 in c:\\users\\harshit.sharma\\appdata\\local\\anaconda3\\lib\\site-packages (from typing-inspect<1,>=0.4.0->dataclasses-json<0.7,>=0.5.7->langchain-community) (0.4.3)\n",
      "Downloading langchain_community-0.2.4-py3-none-any.whl (2.2 MB)\n",
      "   ---------------------------------------- 0.0/2.2 MB ? eta -:--:--\n",
      "   - -------------------------------------- 0.1/2.2 MB 1.1 MB/s eta 0:00:02\n",
      "   -- ------------------------------------- 0.1/2.2 MB 1.2 MB/s eta 0:00:02\n",
      "   --- ------------------------------------ 0.2/2.2 MB 1.4 MB/s eta 0:00:02\n",
      "   ------ --------------------------------- 0.3/2.2 MB 1.8 MB/s eta 0:00:02\n",
      "   -------- ------------------------------- 0.4/2.2 MB 1.8 MB/s eta 0:00:01\n",
      "   ----------- ---------------------------- 0.6/2.2 MB 2.2 MB/s eta 0:00:01\n",
      "   -------------- ------------------------- 0.8/2.2 MB 2.3 MB/s eta 0:00:01\n",
      "   ---------------- ----------------------- 0.9/2.2 MB 2.5 MB/s eta 0:00:01\n",
      "   -------------------- ------------------- 1.1/2.2 MB 2.6 MB/s eta 0:00:01\n",
      "   ----------------------- ---------------- 1.3/2.2 MB 2.7 MB/s eta 0:00:01\n",
      "   -------------------------- ------------- 1.5/2.2 MB 2.8 MB/s eta 0:00:01\n",
      "   --------------------------- ------------ 1.5/2.2 MB 2.9 MB/s eta 0:00:01\n",
      "   ---------------------------- ----------- 1.6/2.2 MB 2.6 MB/s eta 0:00:01\n",
      "   ----------------------------- ---------- 1.6/2.2 MB 2.5 MB/s eta 0:00:01\n",
      "   ------------------------------- -------- 1.7/2.2 MB 2.5 MB/s eta 0:00:01\n",
      "   ------------------------------- -------- 1.7/2.2 MB 2.5 MB/s eta 0:00:01\n",
      "   -------------------------------- ------- 1.8/2.2 MB 2.3 MB/s eta 0:00:01\n",
      "   ----------------------------------- ---- 1.9/2.2 MB 2.3 MB/s eta 0:00:01\n",
      "   ----------------------------------- ---- 1.9/2.2 MB 2.2 MB/s eta 0:00:01\n",
      "   ------------------------------------ --- 2.0/2.2 MB 2.2 MB/s eta 0:00:01\n",
      "   ------------------------------------- -- 2.1/2.2 MB 2.1 MB/s eta 0:00:01\n",
      "   ---------------------------------------  2.1/2.2 MB 2.1 MB/s eta 0:00:01\n",
      "   ---------------------------------------- 2.2/2.2 MB 2.0 MB/s eta 0:00:00\n",
      "Downloading langchain-0.2.3-py3-none-any.whl (974 kB)\n",
      "   ---------------------------------------- 0.0/974.0 kB ? eta -:--:--\n",
      "   - -------------------------------------- 41.0/974.0 kB 2.0 MB/s eta 0:00:01\n",
      "   -- ------------------------------------ 71.7/974.0 kB 991.0 kB/s eta 0:00:01\n",
      "   -- ------------------------------------ 71.7/974.0 kB 991.0 kB/s eta 0:00:01\n",
      "   -- ------------------------------------ 71.7/974.0 kB 991.0 kB/s eta 0:00:01\n",
      "   ----- -------------------------------- 153.6/974.0 kB 706.2 kB/s eta 0:00:02\n",
      "   -------- ----------------------------- 215.0/974.0 kB 819.2 kB/s eta 0:00:01\n",
      "   --------- ---------------------------- 235.5/974.0 kB 850.1 kB/s eta 0:00:01\n",
      "   ----------- -------------------------- 297.0/974.0 kB 835.9 kB/s eta 0:00:01\n",
      "   -------------- ----------------------- 368.6/974.0 kB 955.7 kB/s eta 0:00:01\n",
      "   ---------------- --------------------- 430.1/974.0 kB 960.7 kB/s eta 0:00:01\n",
      "   --------------------- ------------------ 532.5/974.0 kB 1.1 MB/s eta 0:00:01\n",
      "   ------------------------- -------------- 614.4/974.0 kB 1.2 MB/s eta 0:00:01\n",
      "   ---------------------------- ----------- 696.3/974.0 kB 1.2 MB/s eta 0:00:01\n",
      "   ---------------------------------- ----- 829.4/974.0 kB 1.3 MB/s eta 0:00:01\n",
      "   ---------------------------------------  952.3/974.0 kB 1.4 MB/s eta 0:00:01\n",
      "   ---------------------------------------- 974.0/974.0 kB 1.3 MB/s eta 0:00:00\n",
      "Downloading langchain_core-0.2.5-py3-none-any.whl (314 kB)\n",
      "   ---------------------------------------- 0.0/314.7 kB ? eta -:--:--\n",
      "   - -------------------------------------- 10.2/314.7 kB ? eta -:--:--\n",
      "   ------- -------------------------------- 61.4/314.7 kB 1.1 MB/s eta 0:00:01\n",
      "   --------------- ------------------------ 122.9/314.7 kB 1.2 MB/s eta 0:00:01\n",
      "   ---------------------------- ----------- 225.3/314.7 kB 1.4 MB/s eta 0:00:01\n",
      "   ---------------------------------------  307.2/314.7 kB 1.6 MB/s eta 0:00:01\n",
      "   ---------------------------------------- 314.7/314.7 kB 1.5 MB/s eta 0:00:00\n",
      "Downloading langsmith-0.1.77-py3-none-any.whl (125 kB)\n",
      "   ---------------------------------------- 0.0/125.2 kB ? eta -:--:--\n",
      "   -------------------------- ------------- 81.9/125.2 kB 4.8 MB/s eta 0:00:01\n",
      "   -------------------------- ------------- 81.9/125.2 kB 4.8 MB/s eta 0:00:01\n",
      "   -------------------------- ------------- 81.9/125.2 kB 4.8 MB/s eta 0:00:01\n",
      "   -------------------------- ------------- 81.9/125.2 kB 4.8 MB/s eta 0:00:01\n",
      "   ---------------------------- ---------- 92.2/125.2 kB 438.1 kB/s eta 0:00:01\n",
      "   -------------------------------------  122.9/125.2 kB 425.1 kB/s eta 0:00:01\n",
      "   -------------------------------------- 125.2/125.2 kB 409.1 kB/s eta 0:00:00\n",
      "Downloading langchain_text_splitters-0.2.1-py3-none-any.whl (23 kB)\n",
      "Installing collected packages: langsmith, langchain-core, langchain-text-splitters, langchain, langchain-community\n",
      "  Attempting uninstall: langsmith\n",
      "    Found existing installation: langsmith 0.1.50\n",
      "    Uninstalling langsmith-0.1.50:\n",
      "      Successfully uninstalled langsmith-0.1.50\n",
      "  Attempting uninstall: langchain-core\n",
      "    Found existing installation: langchain-core 0.1.45\n",
      "    Uninstalling langchain-core-0.1.45:\n",
      "      Successfully uninstalled langchain-core-0.1.45\n",
      "  Attempting uninstall: langchain-text-splitters\n",
      "    Found existing installation: langchain-text-splitters 0.0.1\n",
      "    Uninstalling langchain-text-splitters-0.0.1:\n",
      "      Successfully uninstalled langchain-text-splitters-0.0.1\n",
      "  Attempting uninstall: langchain\n",
      "    Found existing installation: langchain 0.1.16\n",
      "    Uninstalling langchain-0.1.16:\n",
      "      Successfully uninstalled langchain-0.1.16\n",
      "  Attempting uninstall: langchain-community\n",
      "    Found existing installation: langchain-community 0.0.34\n",
      "    Uninstalling langchain-community-0.0.34:\n",
      "      Successfully uninstalled langchain-community-0.0.34\n",
      "Successfully installed langchain-0.2.3 langchain-community-0.2.4 langchain-core-0.2.5 langchain-text-splitters-0.2.1 langsmith-0.1.77\n"
     ]
    },
    {
     "name": "stderr",
     "output_type": "stream",
     "text": [
      "ERROR: pip's dependency resolver does not currently take into account all the packages that are installed. This behaviour is the source of the following dependency conflicts.\n",
      "langchain-openai 0.1.3 requires langchain-core<0.2.0,>=0.1.42, but you have langchain-core 0.2.5 which is incompatible.\n"
     ]
    }
   ],
   "source": [
    "!pip install langchain-chroma\n",
    "!pip install langchain-openai\n",
    "!pip install --upgrade langchain-community"
   ]
  },
  {
   "cell_type": "code",
   "execution_count": 41,
   "metadata": {},
   "outputs": [],
   "source": [
    "from langchain_chroma import Chroma\n",
    "from langchain_community.example_selectors import NGramOverlapExampleSelector\n",
    "from langchain_core.prompts import FewShotPromptTemplate, PromptTemplate"
   ]
  },
  {
   "cell_type": "code",
   "execution_count": 63,
   "metadata": {},
   "outputs": [],
   "source": [
    "example_prompt = PromptTemplate(\n",
    "    input_variables=[\"input\", \"verb\"],\n",
    "    template=\"Input: {input}\\nOutput: {verb}\",\n",
    ")\n",
    "\n",
    "# Examples of verbs\n",
    "examples = [\n",
    "    {\"input\": \"Ronaldo scores a magnificent goal\", \"verb\": \"scores\"},\n",
    "    {\"input\": \"The striker scores a hat-trick in the championship game.\", \"verb\": \"scores\"},\n",
    "    {\"input\": \"The team captain scores a crucial penalty.\", \"verb\": \"scores\"},\n",
    "    {\"input\": \"Messi scores a stunning free kick\", \"verb\": \"scores\"},\n",
    "    {\"input\": \"Dog barks at the strangers\", \"verb\": \"barks\"},\n",
    "    {\"input\": \"The lion roars at the approaching herd.\", \"verb\": \"roars\"},\n",
    "    {\"input\": \"The puppy yelps at the unknown noises\", \"verb\": \"yelps\"},\n",
    "    {\"input\": \"Usain runs the fastest\", \"verb\": \"runs\"},\n",
    "    {\"input\": \"Michael jumps the highest in the athletics meet\", \"verb\": \"jumps\"},\n",
    "    {\"input\": \"Sarah cycles the longest distance in the race\", \"verb\": \"cycles\"},\n",
    "]\n"
   ]
  },
  {
   "cell_type": "code",
   "execution_count": 64,
   "metadata": {},
   "outputs": [],
   "source": [
    "example_selector = NGramOverlapExampleSelector(examples=examples,example_prompt=example_prompt,threshold=-1.0)\n",
    "dynamic_prompt = FewShotPromptTemplate(\n",
    "    example_selector=example_selector,\n",
    "    example_prompt=example_prompt,\n",
    "    prefix=\"Give the verb of every input sentence\",\n",
    "    suffix=\"Input: {sentence}\\nOutput:\",\n",
    "    input_variables=[\"sentence\"],\n",
    ")"
   ]
  },
  {
   "cell_type": "code",
   "execution_count": 65,
   "metadata": {},
   "outputs": [
    {
     "name": "stdout",
     "output_type": "stream",
     "text": [
      "Give the verb of every input sentence\n",
      "\n",
      "Input: Ronaldo scores a magnificent goal\n",
      "Output: scores\n",
      "\n",
      "Input: The striker scores a hat-trick in the championship game.\n",
      "Output: scores\n",
      "\n",
      "Input: The team captain scores a crucial penalty.\n",
      "Output: scores\n",
      "\n",
      "Input: Messi scores a stunning free kick\n",
      "Output: scores\n",
      "\n",
      "Input: Dog barks at the strangers\n",
      "Output: barks\n",
      "\n",
      "Input: The lion roars at the approaching herd.\n",
      "Output: roars\n",
      "\n",
      "Input: The puppy yelps at the unknown noises\n",
      "Output: yelps\n",
      "\n",
      "Input: Usain runs the fastest\n",
      "Output: runs\n",
      "\n",
      "Input: Michael jumps the highest in the athletics meet\n",
      "Output: jumps\n",
      "\n",
      "Input: Sarah cycles the longest distance in the race\n",
      "Output: cycles\n",
      "\n",
      "Input: Spot can run fast.\n",
      "Output:\n"
     ]
    }
   ],
   "source": [
    "print(dynamic_prompt.format(sentence=\"Spot can run fast.\"))"
   ]
  },
  {
   "cell_type": "markdown",
   "metadata": {},
   "source": [
    "#### 6. Sematic Similarity Selector"
   ]
  },
  {
   "cell_type": "code",
   "execution_count": 66,
   "metadata": {},
   "outputs": [],
   "source": [
    "from langchain_chroma import Chroma\n",
    "from langchain_core.example_selectors import SemanticSimilarityExampleSelector\n",
    "from langchain_community.example_selectors import NGramOverlapExampleSelector\n",
    "from langchain_core.prompts import FewShotPromptTemplate, PromptTemplate\n",
    "from langchain_openai import AzureOpenAIEmbeddings"
   ]
  },
  {
   "cell_type": "code",
   "execution_count": 67,
   "metadata": {},
   "outputs": [],
   "source": [
    "# initializing the embeddin model\n",
    "embeddings = AzureOpenAIEmbeddings(\n",
    "    model=\"ADA_RAG_DONO_DEMO\",\n",
    "    api_key=\"35e177acfb054c28a1058071beb6e609\",\n",
    "    api_version=\"2024-02-01\",\n",
    "    azure_endpoint=\"https://dono-rag-demo-resource-instance.openai.azure.com\"\n",
    ")"
   ]
  },
  {
   "cell_type": "code",
   "execution_count": 68,
   "metadata": {},
   "outputs": [],
   "source": [
    "example_prompt = PromptTemplate(\n",
    "    input_variables=[\"input\", \"verb\"],\n",
    "    template=\"Input: {input}\\nOutput: {verb}\",\n",
    ")\n",
    "\n",
    "# Examples of verbs\n",
    "examples = [\n",
    "    {\"input\": \"Ronaldo scores a magnificent goal\", \"verb\": \"scores\"},\n",
    "    {\"input\": \"The striker scores a hat-trick in the championship game.\", \"verb\": \"scores\"},\n",
    "    {\"input\": \"The team captain scores a crucial penalty.\", \"verb\": \"scores\"},\n",
    "    {\"input\": \"Messi scores a stunning free kick\", \"verb\": \"scores\"},\n",
    "    {\"input\": \"Dog barks at the strangers\", \"verb\": \"barks\"},\n",
    "    {\"input\": \"The lion roars at the approaching herd.\", \"verb\": \"roars\"},\n",
    "    {\"input\": \"The puppy yelps at the unknown noises\", \"verb\": \"yelps\"},\n",
    "    {\"input\": \"Usain runs the fastest\", \"verb\": \"runs\"},\n",
    "    {\"input\": \"Michael jumps the highest in the athletics meet\", \"verb\": \"jumps\"},\n",
    "    {\"input\": \"Sarah cycles the longest distance in the race\", \"verb\": \"cycles\"},\n",
    "\n",
    "]\n"
   ]
  },
  {
   "cell_type": "code",
   "execution_count": 69,
   "metadata": {},
   "outputs": [],
   "source": [
    "example_selector = SemanticSimilarityExampleSelector.from_examples(\n",
    "    examples,\n",
    "    embeddings,\n",
    "    Chroma,\n",
    "    k=2,\n",
    ")\n",
    "\n",
    "similar_prompt = FewShotPromptTemplate(\n",
    "    example_selector=example_selector,\n",
    "    example_prompt=example_prompt,\n",
    "    prefix=\"Give the subject of every input sentence\",\n",
    "    suffix=\"Input: {sentence}\\nOutput:\",\n",
    "    input_variables=[\"sentence\"],\n",
    ")"
   ]
  },
  {
   "cell_type": "code",
   "execution_count": 70,
   "metadata": {},
   "outputs": [
    {
     "name": "stdout",
     "output_type": "stream",
     "text": [
      "Give the subject of every input sentence\n",
      "\n",
      "Input: Messi scores a stunning free kick\n",
      "Output: scores\n",
      "\n",
      "Input: Ronaldo scores a magnificent goal\n",
      "Output: scores\n",
      "\n",
      "Input: The match winning goal was scored by Leo Messi\n",
      "Output:\n"
     ]
    }
   ],
   "source": [
    "# Result\n",
    "print(similar_prompt.format(sentence=\"The match winning goal was scored by Leo Messi\"))\n"
   ]
  },
  {
   "cell_type": "code",
   "execution_count": null,
   "metadata": {},
   "outputs": [],
   "source": []
  },
  {
   "cell_type": "code",
   "execution_count": null,
   "metadata": {},
   "outputs": [],
   "source": []
  }
 ],
 "metadata": {
  "kernelspec": {
   "display_name": "Python 3 (ipykernel)",
   "language": "python",
   "name": "python3"
  },
  "language_info": {
   "codemirror_mode": {
    "name": "ipython",
    "version": 3
   },
   "file_extension": ".py",
   "mimetype": "text/x-python",
   "name": "python",
   "nbconvert_exporter": "python",
   "pygments_lexer": "ipython3",
   "version": "3.11.4"
  }
 },
 "nbformat": 4,
 "nbformat_minor": 2
}
